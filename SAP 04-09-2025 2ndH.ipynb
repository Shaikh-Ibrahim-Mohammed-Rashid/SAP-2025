{
 "cells": [
  {
   "cell_type": "code",
   "execution_count": 1,
   "id": "92889d85-b52c-4508-afed-8f27ffa81c41",
   "metadata": {},
   "outputs": [],
   "source": [
    "import numpy as np \n",
    "import pandas as pd"
   ]
  },
  {
   "cell_type": "code",
   "execution_count": 7,
   "id": "20c3742c-9831-4ad6-b6b7-cf0ebe325742",
   "metadata": {},
   "outputs": [],
   "source": [
    "from sklearn.model_selection import train_test_split,GridSearchCV\n",
    "from sklearn.linear_model import LogisticRegression\n",
    "from sklearn.neighbors import KNeighborsClassifier\n",
    "from sklearn.naive_bayes import GaussianNB\n",
    "from sklearn.svm import LinearSVC\n",
    "from sklearn.tree import DecisionTreeClassifier\n",
    "from sklearn.ensemble import RandomForestClassifier\n",
    "\n",
    "SEED = 0"
   ]
  },
  {
   "cell_type": "code",
   "execution_count": 8,
   "id": "1c7a6b3b-90e0-4be6-82a6-d270e7ecee96",
   "metadata": {},
   "outputs": [],
   "source": [
    "from sklearn import datasets\n",
    "iris = datasets.load_iris()\n",
    "X = iris.data\n",
    "y = iris.target "
   ]
  },
  {
   "cell_type": "code",
   "execution_count": 9,
   "id": "50ef2f7a-2a55-4fcd-b1c0-cb8831273af0",
   "metadata": {},
   "outputs": [],
   "source": [
    "from sklearn.model_selection import train_test_split \n",
    "X_train,X_test,y_train,y_test = train_test_split(X,y,stratify=y)"
   ]
  },
  {
   "cell_type": "markdown",
   "id": "27e6d329-ccc1-4352-8b28-8b5f50cd1529",
   "metadata": {},
   "source": [
    "# Print shapes to verify"
   ]
  },
  {
   "cell_type": "code",
   "execution_count": 11,
   "id": "2399906f-eca4-4c62-affc-e5087c440d82",
   "metadata": {},
   "outputs": [
    {
     "name": "stdout",
     "output_type": "stream",
     "text": [
      "X_train shape: (112, 4)\n",
      "X_test shape: (38, 4)\n",
      "y_train distribution:\n",
      "2    38\n",
      "0    37\n",
      "1    37\n",
      "Name: count, dtype: int64\n",
      "y_test distribution:\n",
      "1    13\n",
      "0    13\n",
      "2    12\n",
      "Name: count, dtype: int64\n"
     ]
    }
   ],
   "source": [
    "print(f\"X_train shape: {X_train.shape}\")\n",
    "print(f\"X_test shape: {X_test.shape}\")\n",
    "print(f\"y_train distribution:\\n{pd.Series(y_train).value_counts()}\")\n",
    "print(f\"y_test distribution:\\n{pd.Series(y_test).value_counts()}\")"
   ]
  },
  {
   "cell_type": "code",
   "execution_count": 15,
   "id": "964fddd3-c364-46ee-b76d-4657a077da87",
   "metadata": {},
   "outputs": [
    {
     "name": "stdout",
     "output_type": "stream",
     "text": [
      "DecisionTreeClassifier(max_depth=20, max_features='log2', min_samples_leaf=4,\n",
      "                       min_samples_split=5)\n",
      "{'criterion': 'gini', 'max_depth': 20, 'max_features': 'log2', 'min_samples_leaf': 4, 'min_samples_split': 5}\n",
      "0.9912301587301589\n"
     ]
    }
   ],
   "source": [
    "parameters = {\n",
    "    'criterion': ['gini', 'entropy'],\n",
    "    'max_depth': [5, 10, 15, 20],\n",
    "    'min_samples_split': [2, 3, 5],\n",
    "    'min_samples_leaf': [1, 2, 4],\n",
    "    'max_features': [None, 'sqrt', 'log2']\n",
    "}\n",
    "\n",
    "gs_clf = GridSearchCV(DecisionTreeClassifier(),\n",
    "                      parameters,\n",
    "                      cv=5,\n",
    "                      scoring='roc_auc_ovr',\n",
    "                      n_jobs=-1)\n",
    "_ = gs_clf.fit(X_train,y_train)\n",
    "\n",
    "print(gs_clf.best_estimator_)\n",
    "print(gs_clf.best_params_)\n",
    "print(gs_clf.best_score_)"
   ]
  },
  {
   "cell_type": "code",
   "execution_count": 16,
   "id": "29f13d8e-8f5e-4bd7-8aa1-4bd06c71400e",
   "metadata": {},
   "outputs": [
    {
     "name": "stdout",
     "output_type": "stream",
     "text": [
      "DecisionTreeClassifier(max_depth=5, min_samples_split=5)\n",
      "{'criterion': 'gini', 'max_depth': 5, 'min_samples_split': 5}\n",
      "0.9726785714285715\n"
     ]
    }
   ],
   "source": [
    "parameters = {\n",
    "    'criterion': ['gini', 'entropy'],\n",
    "    'max_depth': [5, 10, 15, 20],\n",
    "    'min_samples_split': [2, 3, 5]\n",
    "}\n",
    "\n",
    "gs_clf = GridSearchCV(DecisionTreeClassifier(),\n",
    "                      parameters,\n",
    "                      cv=5,\n",
    "                      scoring='roc_auc_ovr',\n",
    "                      n_jobs=-1)\n",
    "_ = gs_clf.fit(X_train,y_train)\n",
    "\n",
    "print(gs_clf.best_estimator_)\n",
    "print(gs_clf.best_params_)\n",
    "print(gs_clf.best_score_)"
   ]
  },
  {
   "cell_type": "code",
   "execution_count": 17,
   "id": "7ad44ebb-0868-4bff-a61c-596d9963f35b",
   "metadata": {},
   "outputs": [
    {
     "name": "stdout",
     "output_type": "stream",
     "text": [
      "DecisionTreeClassifier(max_depth=5, min_samples_split=5, random_state=0)\n",
      "{'criterion': 'gini', 'max_depth': 5, 'min_samples_split': 5}\n",
      "0.9726785714285715\n"
     ]
    }
   ],
   "source": [
    "from sklearn.tree import DecisionTreeClassifier\n",
    "\n",
    "parameters = {\n",
    "    'criterion': ['gini', 'entropy'],\n",
    "    'max_depth': [5, 10, 15, 20],\n",
    "    'min_samples_split': [2, 3, 5]\n",
    "}\n",
    "\n",
    "gs_clf = GridSearchCV(\n",
    "    DecisionTreeClassifier(random_state=SEED),\n",
    "    parameters,\n",
    "    cv=5,\n",
    "    scoring='roc_auc_ovr',\n",
    "    n_jobs=-1\n",
    ")\n",
    "\n",
    "_ = gs_clf.fit(X_train, y_train)\n",
    "\n",
    "print(gs_clf.best_estimator_)\n",
    "print(gs_clf.best_params_)\n",
    "print(gs_clf.best_score_)\n"
   ]
  },
  {
   "cell_type": "code",
   "execution_count": 18,
   "id": "c2297dbd-3cef-4e59-9791-f1fd41645d31",
   "metadata": {},
   "outputs": [
    {
     "name": "stdout",
     "output_type": "stream",
     "text": [
      "KNeighborsClassifier(metric='euclidean', weights='distance')\n",
      "{'metric': 'euclidean', 'n_neighbors': 5, 'weights': 'distance'}\n",
      "0.996468253968254\n"
     ]
    }
   ],
   "source": [
    "from sklearn.neighbors import KNeighborsClassifier\n",
    "\n",
    "parameters = {\n",
    "    'n_neighbors': [3, 5, 7, 9],\n",
    "    'weights': ['uniform', 'distance'],\n",
    "    'metric': ['euclidean', 'manhattan']\n",
    "}\n",
    "\n",
    "gs_clf = GridSearchCV(\n",
    "    KNeighborsClassifier(),\n",
    "    parameters,\n",
    "    cv=5,\n",
    "    scoring='roc_auc_ovr',\n",
    "    n_jobs=-1\n",
    ")\n",
    "\n",
    "_ = gs_clf.fit(X_train, y_train)\n",
    "\n",
    "print(gs_clf.best_estimator_)\n",
    "print(gs_clf.best_params_)\n",
    "print(gs_clf.best_score_)\n"
   ]
  },
  {
   "cell_type": "code",
   "execution_count": 20,
   "id": "93f4e4f3-f436-4d2e-a767-5cb304a55f37",
   "metadata": {},
   "outputs": [
    {
     "name": "stdout",
     "output_type": "stream",
     "text": [
      "KNeighborsClassifier(n_neighbors=11)\n",
      "{'n_neighbors': 11}\n",
      "0.9981944444444444\n"
     ]
    }
   ],
   "source": [
    "from sklearn.neighbors import KNeighborsClassifier\n",
    "\n",
    "parameters = {\n",
    "    'n_neighbors': [2,3,4,5,6,7,8,9,10,11]\n",
    "}\n",
    "\n",
    "gs_clf = GridSearchCV(\n",
    "    KNeighborsClassifier(),\n",
    "    parameters,\n",
    "    cv=5,\n",
    "    scoring='roc_auc_ovr',\n",
    "    n_jobs=-1\n",
    ")\n",
    "\n",
    "_ = gs_clf.fit(X_train, y_train)\n",
    "\n",
    "print(gs_clf.best_estimator_)\n",
    "print(gs_clf.best_params_)\n",
    "print(gs_clf.best_score_)\n"
   ]
  },
  {
   "cell_type": "code",
   "execution_count": 21,
   "id": "7c3bea22-3fd9-435c-a06a-0dc8e5edffda",
   "metadata": {},
   "outputs": [
    {
     "name": "stdout",
     "output_type": "stream",
     "text": [
      "LinearSVC(C=0.01, loss='hinge', random_state=0)\n",
      "{'C': 0.01, 'loss': 'hinge', 'max_iter': 1000}\n",
      "nan\n"
     ]
    },
    {
     "name": "stderr",
     "output_type": "stream",
     "text": [
      "C:\\Users\\ADMIN\\AppData\\Local\\Programs\\Python\\Python313\\Lib\\site-packages\\sklearn\\model_selection\\_search.py:1135: UserWarning: One or more of the test scores are non-finite: [nan nan nan nan nan nan nan nan nan nan nan nan nan nan nan nan nan nan\n",
      " nan nan nan nan nan nan]\n",
      "  warnings.warn(\n"
     ]
    }
   ],
   "source": [
    "from sklearn.svm import LinearSVC\n",
    "\n",
    "parameters = {\n",
    "    'C': [0.01, 0.1, 1, 10],\n",
    "    'max_iter': [1000, 5000, 10000],\n",
    "    'loss': ['hinge', 'squared_hinge']\n",
    "}\n",
    "\n",
    "gs_clf = GridSearchCV(\n",
    "    LinearSVC(random_state=SEED),\n",
    "    parameters,\n",
    "    cv=5,\n",
    "    scoring='roc_auc_ovr',\n",
    "    n_jobs=-1\n",
    ")\n",
    "\n",
    "_ = gs_clf.fit(X_train, y_train)\n",
    "\n",
    "print(gs_clf.best_estimator_)\n",
    "print(gs_clf.best_params_)\n",
    "print(gs_clf.best_score_)\n"
   ]
  },
  {
   "cell_type": "code",
   "execution_count": 23,
   "id": "d25be8a6-164e-4988-b535-802d45d3ba9f",
   "metadata": {},
   "outputs": [
    {
     "name": "stdout",
     "output_type": "stream",
     "text": [
      "LinearSVC(C=np.float64(0.01), random_state=0)\n",
      "{'C': np.float64(0.01)}\n",
      "nan\n"
     ]
    },
    {
     "name": "stderr",
     "output_type": "stream",
     "text": [
      "C:\\Users\\ADMIN\\AppData\\Local\\Programs\\Python\\Python313\\Lib\\site-packages\\sklearn\\model_selection\\_search.py:1135: UserWarning: One or more of the test scores are non-finite: [nan nan nan nan nan]\n",
      "  warnings.warn(\n"
     ]
    }
   ],
   "source": [
    "from sklearn.svm import LinearSVC\n",
    "\n",
    "parameters = {\n",
    "    'C': np.logspace(-2,2,5)\n",
    "}\n",
    "\n",
    "gs_clf = GridSearchCV(\n",
    "    LinearSVC(random_state=SEED),\n",
    "    parameters,\n",
    "    cv=5,\n",
    "    scoring='roc_auc_ovr',\n",
    "    n_jobs=-1\n",
    ")\n",
    "\n",
    "_ = gs_clf.fit(X_train, y_train)\n",
    "\n",
    "print(gs_clf.best_estimator_)\n",
    "print(gs_clf.best_params_)\n",
    "print(gs_clf.best_score_)\n"
   ]
  },
  {
   "cell_type": "code",
   "execution_count": null,
   "id": "e2873e10-8c87-405d-bde3-2ca7245c8237",
   "metadata": {},
   "outputs": [],
   "source": []
  }
 ],
 "metadata": {
  "kernelspec": {
   "display_name": "Python 3 (ipykernel)",
   "language": "python",
   "name": "python3"
  },
  "language_info": {
   "codemirror_mode": {
    "name": "ipython",
    "version": 3
   },
   "file_extension": ".py",
   "mimetype": "text/x-python",
   "name": "python",
   "nbconvert_exporter": "python",
   "pygments_lexer": "ipython3",
   "version": "3.13.6"
  }
 },
 "nbformat": 4,
 "nbformat_minor": 5
}
