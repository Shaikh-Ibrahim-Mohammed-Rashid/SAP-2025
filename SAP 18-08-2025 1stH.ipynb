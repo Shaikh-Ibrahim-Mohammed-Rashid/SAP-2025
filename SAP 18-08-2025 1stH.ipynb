{
 "cells": [
  {
   "cell_type": "code",
   "execution_count": 8,
   "id": "b4f7626c-74af-4f6a-8d2d-c761eecbb925",
   "metadata": {},
   "outputs": [
    {
     "name": "stdout",
     "output_type": "stream",
     "text": [
      "Original DataFrame:\n",
      "  Category  Value1  Value2\n",
      "0        A      10     100\n",
      "1        A      20     120\n",
      "2        A      15     115\n",
      "3        B      25     130\n",
      "4        B      30     140\n",
      "5        C       5      50\n",
      "6        C       7      60\n",
      "7        C      12      70\n",
      "8        C      20      90\n"
     ]
    }
   ],
   "source": [
    "import pandas as pd\n",
    "\n",
    "data = {\n",
    "    \"Category\": [\"A\", \"A\", \"A\", \"B\", \"B\", \"C\", \"C\", \"C\", \"C\"],\n",
    "    \"Value1\": [10, 20, 15, 25, 30, 5, 7, 12, 20],\n",
    "    \"Value2\": [100, 120, 115, 130, 140, 50, 60, 70, 90]\n",
    "}\n",
    "\n",
    "df = pd.DataFrame(data)\n",
    "print(\"Original DataFrame:\")\n",
    "print(df)"
   ]
  },
  {
   "cell_type": "code",
   "execution_count": 2,
   "id": "f4e5a5b0-fe6e-4ba9-9e75-3a05b122ce5c",
   "metadata": {},
   "outputs": [
    {
     "name": "stdout",
     "output_type": "stream",
     "text": [
      "\n",
      "GroupBy - Variance:\n",
      "             Value1      Value2\n",
      "Category                       \n",
      "A         25.000000  108.333333\n",
      "B         12.500000   50.000000\n",
      "C         44.666667  291.666667\n"
     ]
    }
   ],
   "source": [
    "group_var = df.groupby(\"Category\").var()\n",
    "print(\"\\nGroupBy - Variance:\")\n",
    "print(group_var)"
   ]
  },
  {
   "cell_type": "code",
   "execution_count": 3,
   "id": "0562e083-1f1b-415d-9d57-57a28b93473d",
   "metadata": {},
   "outputs": [
    {
     "name": "stdout",
     "output_type": "stream",
     "text": [
      "\n",
      "GroupBy - Mean:\n",
      "          Value1      Value2\n",
      "Category                    \n",
      "A           15.0  111.666667\n",
      "B           27.5  135.000000\n",
      "C           11.0   67.500000\n"
     ]
    }
   ],
   "source": [
    "group_mean = df.groupby(\"Category\").mean()\n",
    "print(\"\\nGroupBy - Mean:\")\n",
    "print(group_mean)"
   ]
  },
  {
   "cell_type": "code",
   "execution_count": 4,
   "id": "6edc25da-9ed0-421f-ad0b-0e25b30e1cb2",
   "metadata": {},
   "outputs": [
    {
     "name": "stdout",
     "output_type": "stream",
     "text": [
      "\n",
      "GroupBy - Median:\n",
      "          Value1  Value2\n",
      "Category                \n",
      "A           15.0   115.0\n",
      "B           27.5   135.0\n",
      "C            9.5    65.0\n"
     ]
    }
   ],
   "source": [
    "group_median = df.groupby(\"Category\").median()\n",
    "print(\"\\nGroupBy - Median:\")\n",
    "print(group_median)"
   ]
  },
  {
   "cell_type": "code",
   "execution_count": 5,
   "id": "51f06cb8-7432-4d83-ac2d-4286fbfa690a",
   "metadata": {},
   "outputs": [
    {
     "name": "stdout",
     "output_type": "stream",
     "text": [
      "\n",
      "GroupBy - Max:\n",
      "          Value1  Value2\n",
      "Category                \n",
      "A             20     120\n",
      "B             30     140\n",
      "C             20      90\n"
     ]
    }
   ],
   "source": [
    "group_max = df.groupby(\"Category\").max()\n",
    "print(\"\\nGroupBy - Max:\")\n",
    "print(group_max)"
   ]
  },
  {
   "cell_type": "code",
   "execution_count": 6,
   "id": "6d3070de-b3df-4014-9016-26c1ba02aa8a",
   "metadata": {},
   "outputs": [
    {
     "name": "stdout",
     "output_type": "stream",
     "text": [
      "\n",
      "GroupBy - Min:\n",
      "          Value1  Value2\n",
      "Category                \n",
      "A             10     100\n",
      "B             25     130\n",
      "C              5      50\n"
     ]
    }
   ],
   "source": [
    "group_min = df.groupby(\"Category\").min()\n",
    "print(\"\\nGroupBy - Min:\")\n",
    "print(group_min)"
   ]
  },
  {
   "cell_type": "code",
   "execution_count": 7,
   "id": "dc4d5294-cd75-42f3-96a0-4ff99d368e87",
   "metadata": {},
   "outputs": [
    {
     "name": "stdout",
     "output_type": "stream",
     "text": [
      "\n",
      "GroupBy - Count:\n",
      "          Value1  Value2\n",
      "Category                \n",
      "A              3       3\n",
      "B              2       2\n",
      "C              4       4\n"
     ]
    }
   ],
   "source": [
    "group_count = df.groupby(\"Category\").count()\n",
    "print(\"\\nGroupBy - Count:\")\n",
    "print(group_count)"
   ]
  },
  {
   "cell_type": "code",
   "execution_count": 9,
   "id": "9e731cae-9dfa-448f-8519-acaa9cc3149a",
   "metadata": {},
   "outputs": [
    {
     "data": {
      "text/plain": [
       "Category\n",
       "A    5.000000\n",
       "B    3.535534\n",
       "C    6.683313\n",
       "Name: Value1, dtype: float64"
      ]
     },
     "execution_count": 9,
     "metadata": {},
     "output_type": "execute_result"
    }
   ],
   "source": [
    "df.groupby(\"Category\")[\"Value1\"].std()"
   ]
  },
  {
   "cell_type": "code",
   "execution_count": 10,
   "id": "c22a14b9-e7f7-4a10-9df1-2dda53cb5da9",
   "metadata": {},
   "outputs": [
    {
     "data": {
      "text/plain": [
       "Category\n",
       "A    10\n",
       "B    25\n",
       "C     5\n",
       "Name: Value1, dtype: int64"
      ]
     },
     "execution_count": 10,
     "metadata": {},
     "output_type": "execute_result"
    }
   ],
   "source": [
    "df.groupby(\"Category\")[\"Value1\"].min()"
   ]
  },
  {
   "cell_type": "code",
   "execution_count": 11,
   "id": "7d06843c-d8a7-4cd1-a065-e18d17bfa2cc",
   "metadata": {},
   "outputs": [
    {
     "data": {
      "text/plain": [
       "Category\n",
       "A    20\n",
       "B    30\n",
       "C    20\n",
       "Name: Value1, dtype: int64"
      ]
     },
     "execution_count": 11,
     "metadata": {},
     "output_type": "execute_result"
    }
   ],
   "source": [
    "df.groupby(\"Category\")[\"Value1\"].max()"
   ]
  },
  {
   "cell_type": "code",
   "execution_count": 12,
   "id": "1348bbf7-104a-4f04-a717-f714af670ed9",
   "metadata": {},
   "outputs": [
    {
     "data": {
      "text/plain": [
       "Category\n",
       "A    15.0\n",
       "B    27.5\n",
       "C     9.5\n",
       "Name: Value1, dtype: float64"
      ]
     },
     "execution_count": 12,
     "metadata": {},
     "output_type": "execute_result"
    }
   ],
   "source": [
    "df.groupby(\"Category\")[\"Value1\"].median()"
   ]
  },
  {
   "cell_type": "code",
   "execution_count": 13,
   "id": "3fbaa612-b600-4328-ae79-f585afd9acb4",
   "metadata": {},
   "outputs": [
    {
     "data": {
      "text/plain": [
       "Category\n",
       "A    25.000000\n",
       "B    12.500000\n",
       "C    44.666667\n",
       "Name: Value1, dtype: float64"
      ]
     },
     "execution_count": 13,
     "metadata": {},
     "output_type": "execute_result"
    }
   ],
   "source": [
    "df.groupby(\"Category\")[\"Value1\"].var()"
   ]
  },
  {
   "cell_type": "code",
   "execution_count": 14,
   "id": "ce9d80fe-5b09-437b-bbcf-1f4548e7cb5f",
   "metadata": {},
   "outputs": [
    {
     "data": {
      "text/plain": [
       "Category\n",
       "A    3\n",
       "B    2\n",
       "C    4\n",
       "Name: Value1, dtype: int64"
      ]
     },
     "execution_count": 14,
     "metadata": {},
     "output_type": "execute_result"
    }
   ],
   "source": [
    "df.groupby(\"Category\")[\"Value1\"].count()"
   ]
  },
  {
   "cell_type": "code",
   "execution_count": 18,
   "id": "70b8a3a4-8b81-4249-92c4-84b66985c185",
   "metadata": {},
   "outputs": [],
   "source": [
    "data = {\n",
    "    \"Department\": [\"HR\", \"HR\", \"Finance\", \"Finance\", \"IT\", \"IT\", \"Sales\", \"Sales\"],\n",
    "    \"Employee\": [\"Alice\", \"Bob\", \"Charlie\", \"David\", \"Eva\", \"Frank\", \"Grace\", \"Hannah\"],\n",
    "    \"Salary\": [50000, 52000, 60000, 58000, 75000, 77000, 65000, 68000],\n",
    "    \"Experience\": [3, 4, 5, 6, 8, 7, 4, 5],\n",
    "    \"Location\": [\"New York\", \"London\", \"New York\", \"London\", \"Tokyo\", \"Tokyo\", \"Berlin\", \"Berlin\"]\n",
    "}"
   ]
  },
  {
   "cell_type": "code",
   "execution_count": 20,
   "id": "a14ad690-645b-43c9-b112-0236a7b00878",
   "metadata": {},
   "outputs": [
    {
     "name": "stdout",
     "output_type": "stream",
     "text": [
      "Original DataFrame:\n",
      "  Department Employee  Salary  Experience  Location\n",
      "0         HR    Alice   50000           3  New York\n",
      "1         HR      Bob   52000           4    London\n",
      "2    Finance  Charlie   60000           5  New York\n",
      "3    Finance    David   58000           6    London\n",
      "4         IT      Eva   75000           8     Tokyo\n",
      "5         IT    Frank   77000           7     Tokyo\n",
      "6      Sales    Grace   65000           4    Berlin\n",
      "7      Sales   Hannah   68000           5    Berlin\n"
     ]
    }
   ],
   "source": [
    "df = pd.DataFrame(data)\n",
    "print(\"Original DataFrame:\")\n",
    "print(df)"
   ]
  },
  {
   "cell_type": "code",
   "execution_count": 21,
   "id": "c2b47efd-7987-4e9d-b3f5-6e6f3a7c991c",
   "metadata": {},
   "outputs": [
    {
     "name": "stdout",
     "output_type": "stream",
     "text": [
      "\n",
      "Pivot Table - Average Salary by Department and Location:\n",
      "Location     Berlin   London  New York    Tokyo\n",
      "Department                                     \n",
      "Finance         NaN  58000.0   60000.0      NaN\n",
      "HR              NaN  52000.0   50000.0      NaN\n",
      "IT              NaN      NaN       NaN  76000.0\n",
      "Sales       66500.0      NaN       NaN      NaN\n"
     ]
    }
   ],
   "source": [
    "pivot = pd.pivot_table(df, \n",
    "                       values=\"Salary\", \n",
    "                       index=\"Department\", \n",
    "                       columns=\"Location\", \n",
    "                       aggfunc=\"mean\")\n",
    "\n",
    "print(\"\\nPivot Table - Average Salary by Department and Location:\")\n",
    "print(pivot)"
   ]
  },
  {
   "cell_type": "code",
   "execution_count": 24,
   "id": "40f1acc3-fb4f-43a5-b942-3263b9c2517e",
   "metadata": {},
   "outputs": [
    {
     "name": "stdout",
     "output_type": "stream",
     "text": [
      "\n",
      "Pivot Table - Average Salary by Department and Location:\n",
      "Location     Berlin   London  New York    Tokyo\n",
      "Department                                     \n",
      "Finance         NaN  58000.0   60000.0      NaN\n",
      "HR              NaN  52000.0   50000.0      NaN\n",
      "IT              NaN      NaN       NaN  76000.0\n",
      "Sales       66500.0      NaN       NaN      NaN\n"
     ]
    }
   ],
   "source": [
    "pivot = pd.pivot_table(df, \n",
    "                       values=\"Salary\", \n",
    "                       index=\"Department\", \n",
    "                       columns=\"Location\",)\n",
    "\n",
    "print(\"\\nPivot Table - Average Salary by Department and Location:\")\n",
    "print(pivot)"
   ]
  },
  {
   "cell_type": "code",
   "execution_count": 25,
   "id": "e089baa2-38ed-4013-8a0f-905b0da0f064",
   "metadata": {},
   "outputs": [
    {
     "name": "stdout",
     "output_type": "stream",
     "text": [
      "  Department Employee  Salary  Experience  Location\n",
      "0         HR    Alice   50000           3  New York\n",
      "1         HR      Bob   52000           4    London\n",
      "2    Finance  Charlie   60000           5  New York\n",
      "3    Finance    David   58000           6    London\n",
      "4         IT      Eva   75000           8     Tokyo\n",
      "5         IT    Frank   77000           7     Tokyo\n",
      "6      Sales    Grace   65000           4    Berlin\n",
      "7      Sales   Hannah   68000           5    Berlin\n"
     ]
    }
   ],
   "source": [
    "import pandas as pd\n",
    "\n",
    "data = {\n",
    "    \"Department\": [\"HR\", \"HR\", \"Finance\", \"Finance\", \"IT\", \"IT\", \"Sales\", \"Sales\"],\n",
    "    \"Employee\": [\"Alice\", \"Bob\", \"Charlie\", \"David\", \"Eva\", \"Frank\", \"Grace\", \"Hannah\"],\n",
    "    \"Salary\": [50000, 52000, 60000, 58000, 75000, 77000, 65000, 68000],\n",
    "    \"Experience\": [3, 4, 5, 6, 8, 7, 4, 5],\n",
    "    \"Location\": [\"New York\", \"London\", \"New York\", \"London\", \"Tokyo\", \"Tokyo\", \"Berlin\", \"Berlin\"]\n",
    "}\n",
    "\n",
    "df = pd.DataFrame(data)\n",
    "print(df)\n"
   ]
  },
  {
   "cell_type": "code",
   "execution_count": 26,
   "id": "545b9fce-e811-47da-b7ed-91f894182f49",
   "metadata": {},
   "outputs": [
    {
     "name": "stdout",
     "output_type": "stream",
     "text": [
      "Location     Berlin   London  New York    Tokyo\n",
      "Department                                     \n",
      "Finance         NaN  58000.0   60000.0      NaN\n",
      "HR              NaN  52000.0   50000.0      NaN\n",
      "IT              NaN      NaN       NaN  76000.0\n",
      "Sales       66500.0      NaN       NaN      NaN\n"
     ]
    }
   ],
   "source": [
    "pivot1 = pd.pivot_table(df, \n",
    "                        values=\"Salary\", \n",
    "                        index=\"Department\", \n",
    "                        columns=\"Location\", \n",
    "                        aggfunc=\"mean\")\n",
    "print(pivot1)\n"
   ]
  },
  {
   "cell_type": "code",
   "execution_count": 27,
   "id": "d382d5a5-7a7e-42c6-91ed-c3b224cb2a5f",
   "metadata": {},
   "outputs": [
    {
     "name": "stdout",
     "output_type": "stream",
     "text": [
      "               mean                                 max                    \\\n",
      "Location     Berlin   London New York    Tokyo   Berlin   London New York   \n",
      "Department                                                                  \n",
      "Finance         NaN  58000.0  60000.0      NaN      NaN  58000.0  60000.0   \n",
      "HR              NaN  52000.0  50000.0      NaN      NaN  52000.0  50000.0   \n",
      "IT              NaN      NaN      NaN  76000.0      NaN      NaN      NaN   \n",
      "Sales       66500.0      NaN      NaN      NaN  68000.0      NaN      NaN   \n",
      "\n",
      "                         min                             \n",
      "Location      Tokyo   Berlin   London New York    Tokyo  \n",
      "Department                                               \n",
      "Finance         NaN      NaN  58000.0  60000.0      NaN  \n",
      "HR              NaN      NaN  52000.0  50000.0      NaN  \n",
      "IT          77000.0      NaN      NaN      NaN  75000.0  \n",
      "Sales           NaN  65000.0      NaN      NaN      NaN  \n"
     ]
    }
   ],
   "source": [
    "pivot2 = pd.pivot_table(df,\n",
    "                        values=\"Salary\",\n",
    "                        index=\"Department\",\n",
    "                        columns=\"Location\",\n",
    "                        aggfunc=[\"mean\", \"max\", \"min\"])\n",
    "print(pivot2)\n"
   ]
  },
  {
   "cell_type": "code",
   "execution_count": 28,
   "id": "86f7e21d-28e2-41e0-8bd9-1388e0d140ec",
   "metadata": {},
   "outputs": [
    {
     "name": "stdout",
     "output_type": "stream",
     "text": [
      "            Experience   Salary\n",
      "Department                     \n",
      "Finance              6  59000.0\n",
      "HR                   4  51000.0\n",
      "IT                   8  76000.0\n",
      "Sales                5  66500.0\n"
     ]
    }
   ],
   "source": [
    "pivot3 = pd.pivot_table(df,\n",
    "                        values=[\"Salary\", \"Experience\"],\n",
    "                        index=\"Department\",\n",
    "                        aggfunc={\"Salary\": \"mean\", \"Experience\": \"max\"})\n",
    "print(pivot3)\n"
   ]
  },
  {
   "cell_type": "code",
   "execution_count": 29,
   "id": "9c1809d8-bfe6-4529-bb48-d476550ed70e",
   "metadata": {},
   "outputs": [
    {
     "name": "stdout",
     "output_type": "stream",
     "text": [
      "Location    Berlin  London  New York  Tokyo\n",
      "Department                                 \n",
      "Finance        NaN     1.0       1.0    NaN\n",
      "HR             NaN     1.0       1.0    NaN\n",
      "IT             NaN     NaN       NaN    2.0\n",
      "Sales          2.0     NaN       NaN    NaN\n"
     ]
    }
   ],
   "source": [
    "pivot4 = pd.pivot_table(df,\n",
    "                        values=\"Employee\",\n",
    "                        index=\"Department\",\n",
    "                        columns=\"Location\",\n",
    "                        aggfunc=\"count\")\n",
    "print(pivot4)\n"
   ]
  },
  {
   "cell_type": "code",
   "execution_count": 30,
   "id": "0e92b937-3e12-470c-818d-fc3bc140afba",
   "metadata": {},
   "outputs": [
    {
     "name": "stdout",
     "output_type": "stream",
     "text": [
      "\n",
      "Pivot Table:\n",
      "            Experience                               Salary                    \\\n",
      "Location       Berlin London New York Tokyo Total   Berlin   London New York   \n",
      "Department                                                                     \n",
      "Finance           0.0    6.0      5.0   0.0     6      0.0  58000.0  60000.0   \n",
      "HR                0.0    4.0      3.0   0.0     4      0.0  52000.0  50000.0   \n",
      "IT                0.0    0.0      0.0   8.0     8      0.0      0.0      0.0   \n",
      "Sales             5.0    0.0      0.0   0.0     5  66500.0      0.0      0.0   \n",
      "Total             5.0    6.0      5.0   8.0     8  66500.0  55000.0  55000.0   \n",
      "\n",
      "                              \n",
      "Location      Tokyo    Total  \n",
      "Department                    \n",
      "Finance         0.0  59000.0  \n",
      "HR              0.0  51000.0  \n",
      "IT          76000.0  76000.0  \n",
      "Sales           0.0  66500.0  \n",
      "Total       76000.0  63125.0  \n"
     ]
    }
   ],
   "source": [
    "pivot = pd.pivot_table(\n",
    "    data=df,                        # DataFrame\n",
    "    values=[\"Salary\", \"Experience\"],# What to calculate\n",
    "    index=[\"Department\"],            # Rows\n",
    "    columns=[\"Location\"],            # Columns\n",
    "    aggfunc={\"Salary\": \"mean\", \"Experience\": \"max\"},  # Different aggregations\n",
    "    fill_value=0,                    # Replace NaN with 0\n",
    "    margins=True,                    # Add row/column totals\n",
    "    margins_name=\"Total\",            # Rename the totals row/col\n",
    "    dropna=True,                     # Drop columns where all values are NaN\n",
    "    observed=False,                  # Include all categorical values (if categorical data exists)\n",
    "    sort=True                        # Sort row/column labels\n",
    ")\n",
    "\n",
    "print(\"\\nPivot Table:\\n\", pivot)"
   ]
  },
  {
   "cell_type": "code",
   "execution_count": 31,
   "id": "c344514a-83f0-4166-a61e-b0bf6776ad07",
   "metadata": {},
   "outputs": [
    {
     "data": {
      "text/html": [
       "<div>\n",
       "<style scoped>\n",
       "    .dataframe tbody tr th:only-of-type {\n",
       "        vertical-align: middle;\n",
       "    }\n",
       "\n",
       "    .dataframe tbody tr th {\n",
       "        vertical-align: top;\n",
       "    }\n",
       "\n",
       "    .dataframe thead th {\n",
       "        text-align: right;\n",
       "    }\n",
       "</style>\n",
       "<table border=\"1\" class=\"dataframe\">\n",
       "  <thead>\n",
       "    <tr style=\"text-align: right;\">\n",
       "      <th></th>\n",
       "      <th>Department</th>\n",
       "      <th>Employee</th>\n",
       "      <th>Salary</th>\n",
       "      <th>Experience</th>\n",
       "      <th>Location</th>\n",
       "    </tr>\n",
       "  </thead>\n",
       "  <tbody>\n",
       "    <tr>\n",
       "      <th>0</th>\n",
       "      <td>HR</td>\n",
       "      <td>Alice</td>\n",
       "      <td>50000</td>\n",
       "      <td>3</td>\n",
       "      <td>New York</td>\n",
       "    </tr>\n",
       "    <tr>\n",
       "      <th>1</th>\n",
       "      <td>HR</td>\n",
       "      <td>Bob</td>\n",
       "      <td>52000</td>\n",
       "      <td>4</td>\n",
       "      <td>London</td>\n",
       "    </tr>\n",
       "    <tr>\n",
       "      <th>4</th>\n",
       "      <td>IT</td>\n",
       "      <td>Eva</td>\n",
       "      <td>75000</td>\n",
       "      <td>8</td>\n",
       "      <td>Tokyo</td>\n",
       "    </tr>\n",
       "    <tr>\n",
       "      <th>5</th>\n",
       "      <td>IT</td>\n",
       "      <td>Frank</td>\n",
       "      <td>77000</td>\n",
       "      <td>7</td>\n",
       "      <td>Tokyo</td>\n",
       "    </tr>\n",
       "  </tbody>\n",
       "</table>\n",
       "</div>"
      ],
      "text/plain": [
       "  Department Employee  Salary  Experience  Location\n",
       "0         HR    Alice   50000           3  New York\n",
       "1         HR      Bob   52000           4    London\n",
       "4         IT      Eva   75000           8     Tokyo\n",
       "5         IT    Frank   77000           7     Tokyo"
      ]
     },
     "execution_count": 31,
     "metadata": {},
     "output_type": "execute_result"
    }
   ],
   "source": [
    "df[df[\"Department\"].isin([\"IT\",\"HR\"])]"
   ]
  },
  {
   "cell_type": "markdown",
   "id": "9a258dfa-06bd-497e-a091-411e30ebbde2",
   "metadata": {},
   "source": [
    "👉 Select everything except IT & HR."
   ]
  },
  {
   "cell_type": "code",
   "execution_count": 33,
   "id": "0a364430-a28e-41dd-aa6d-d7d2ff44dfc9",
   "metadata": {},
   "outputs": [
    {
     "data": {
      "text/html": [
       "<div>\n",
       "<style scoped>\n",
       "    .dataframe tbody tr th:only-of-type {\n",
       "        vertical-align: middle;\n",
       "    }\n",
       "\n",
       "    .dataframe tbody tr th {\n",
       "        vertical-align: top;\n",
       "    }\n",
       "\n",
       "    .dataframe thead th {\n",
       "        text-align: right;\n",
       "    }\n",
       "</style>\n",
       "<table border=\"1\" class=\"dataframe\">\n",
       "  <thead>\n",
       "    <tr style=\"text-align: right;\">\n",
       "      <th></th>\n",
       "      <th>Department</th>\n",
       "      <th>Employee</th>\n",
       "      <th>Salary</th>\n",
       "      <th>Experience</th>\n",
       "      <th>Location</th>\n",
       "    </tr>\n",
       "  </thead>\n",
       "  <tbody>\n",
       "    <tr>\n",
       "      <th>2</th>\n",
       "      <td>Finance</td>\n",
       "      <td>Charlie</td>\n",
       "      <td>60000</td>\n",
       "      <td>5</td>\n",
       "      <td>New York</td>\n",
       "    </tr>\n",
       "    <tr>\n",
       "      <th>3</th>\n",
       "      <td>Finance</td>\n",
       "      <td>David</td>\n",
       "      <td>58000</td>\n",
       "      <td>6</td>\n",
       "      <td>London</td>\n",
       "    </tr>\n",
       "    <tr>\n",
       "      <th>6</th>\n",
       "      <td>Sales</td>\n",
       "      <td>Grace</td>\n",
       "      <td>65000</td>\n",
       "      <td>4</td>\n",
       "      <td>Berlin</td>\n",
       "    </tr>\n",
       "    <tr>\n",
       "      <th>7</th>\n",
       "      <td>Sales</td>\n",
       "      <td>Hannah</td>\n",
       "      <td>68000</td>\n",
       "      <td>5</td>\n",
       "      <td>Berlin</td>\n",
       "    </tr>\n",
       "  </tbody>\n",
       "</table>\n",
       "</div>"
      ],
      "text/plain": [
       "  Department Employee  Salary  Experience  Location\n",
       "2    Finance  Charlie   60000           5  New York\n",
       "3    Finance    David   58000           6    London\n",
       "6      Sales    Grace   65000           4    Berlin\n",
       "7      Sales   Hannah   68000           5    Berlin"
      ]
     },
     "execution_count": 33,
     "metadata": {},
     "output_type": "execute_result"
    }
   ],
   "source": [
    "df[~df[\"Department\"].isin([\"IT\",\"HR\"])]"
   ]
  },
  {
   "cell_type": "markdown",
   "id": "40a697aa-d6cd-4a1b-836d-ad6ee94a6dcd",
   "metadata": {},
   "source": [
    "👉 Select everything except IT & HR."
   ]
  },
  {
   "cell_type": "code",
   "execution_count": 34,
   "id": "fbb056c5-66ac-4454-afb9-80037dc69e81",
   "metadata": {},
   "outputs": [
    {
     "data": {
      "text/html": [
       "<div>\n",
       "<style scoped>\n",
       "    .dataframe tbody tr th:only-of-type {\n",
       "        vertical-align: middle;\n",
       "    }\n",
       "\n",
       "    .dataframe tbody tr th {\n",
       "        vertical-align: top;\n",
       "    }\n",
       "\n",
       "    .dataframe thead th {\n",
       "        text-align: right;\n",
       "    }\n",
       "</style>\n",
       "<table border=\"1\" class=\"dataframe\">\n",
       "  <thead>\n",
       "    <tr style=\"text-align: right;\">\n",
       "      <th></th>\n",
       "      <th>Department</th>\n",
       "      <th>Employee</th>\n",
       "      <th>Salary</th>\n",
       "      <th>Experience</th>\n",
       "      <th>Location</th>\n",
       "    </tr>\n",
       "  </thead>\n",
       "  <tbody>\n",
       "    <tr>\n",
       "      <th>4</th>\n",
       "      <td>IT</td>\n",
       "      <td>Eva</td>\n",
       "      <td>75000</td>\n",
       "      <td>8</td>\n",
       "      <td>Tokyo</td>\n",
       "    </tr>\n",
       "    <tr>\n",
       "      <th>5</th>\n",
       "      <td>IT</td>\n",
       "      <td>Frank</td>\n",
       "      <td>77000</td>\n",
       "      <td>7</td>\n",
       "      <td>Tokyo</td>\n",
       "    </tr>\n",
       "    <tr>\n",
       "      <th>6</th>\n",
       "      <td>Sales</td>\n",
       "      <td>Grace</td>\n",
       "      <td>65000</td>\n",
       "      <td>4</td>\n",
       "      <td>Berlin</td>\n",
       "    </tr>\n",
       "    <tr>\n",
       "      <th>7</th>\n",
       "      <td>Sales</td>\n",
       "      <td>Hannah</td>\n",
       "      <td>68000</td>\n",
       "      <td>5</td>\n",
       "      <td>Berlin</td>\n",
       "    </tr>\n",
       "  </tbody>\n",
       "</table>\n",
       "</div>"
      ],
      "text/plain": [
       "  Department Employee  Salary  Experience Location\n",
       "4         IT      Eva   75000           8    Tokyo\n",
       "5         IT    Frank   77000           7    Tokyo\n",
       "6      Sales    Grace   65000           4   Berlin\n",
       "7      Sales   Hannah   68000           5   Berlin"
      ]
     },
     "execution_count": 34,
     "metadata": {},
     "output_type": "execute_result"
    }
   ],
   "source": [
    "df[df[[\"Department\", \"Location\"]].isin({\n",
    "    \"Department\": [\"IT\", \"Sales\"],\n",
    "    \"Location\": [\"Tokyo\", \"Berlin\"]\n",
    "}).all(axis=1)]"
   ]
  },
  {
   "cell_type": "markdown",
   "id": "4f138de2-ce5a-4cdb-b90d-2a45e5ca8da9",
   "metadata": {},
   "source": [
    "👉 Select only rows where:\n",
    "\n",
    "Department is IT or Sales AND\n",
    "\n",
    "Location is Tokyo or Berlin."
   ]
  },
  {
   "cell_type": "code",
   "execution_count": 35,
   "id": "abd26057-55b5-4e08-b7a1-62cc4ebab986",
   "metadata": {},
   "outputs": [
    {
     "data": {
      "text/html": [
       "<div>\n",
       "<style scoped>\n",
       "    .dataframe tbody tr th:only-of-type {\n",
       "        vertical-align: middle;\n",
       "    }\n",
       "\n",
       "    .dataframe tbody tr th {\n",
       "        vertical-align: top;\n",
       "    }\n",
       "\n",
       "    .dataframe thead th {\n",
       "        text-align: right;\n",
       "    }\n",
       "</style>\n",
       "<table border=\"1\" class=\"dataframe\">\n",
       "  <thead>\n",
       "    <tr style=\"text-align: right;\">\n",
       "      <th></th>\n",
       "      <th>Department</th>\n",
       "      <th>Employee</th>\n",
       "      <th>Salary</th>\n",
       "      <th>Experience</th>\n",
       "      <th>Location</th>\n",
       "    </tr>\n",
       "  </thead>\n",
       "  <tbody>\n",
       "    <tr>\n",
       "      <th>2</th>\n",
       "      <td>Finance</td>\n",
       "      <td>Charlie</td>\n",
       "      <td>60000</td>\n",
       "      <td>5</td>\n",
       "      <td>New York</td>\n",
       "    </tr>\n",
       "    <tr>\n",
       "      <th>3</th>\n",
       "      <td>Finance</td>\n",
       "      <td>David</td>\n",
       "      <td>58000</td>\n",
       "      <td>6</td>\n",
       "      <td>London</td>\n",
       "    </tr>\n",
       "    <tr>\n",
       "      <th>6</th>\n",
       "      <td>Sales</td>\n",
       "      <td>Grace</td>\n",
       "      <td>65000</td>\n",
       "      <td>4</td>\n",
       "      <td>Berlin</td>\n",
       "    </tr>\n",
       "    <tr>\n",
       "      <th>7</th>\n",
       "      <td>Sales</td>\n",
       "      <td>Hannah</td>\n",
       "      <td>68000</td>\n",
       "      <td>5</td>\n",
       "      <td>Berlin</td>\n",
       "    </tr>\n",
       "  </tbody>\n",
       "</table>\n",
       "</div>"
      ],
      "text/plain": [
       "  Department Employee  Salary  Experience  Location\n",
       "2    Finance  Charlie   60000           5  New York\n",
       "3    Finance    David   58000           6    London\n",
       "6      Sales    Grace   65000           4    Berlin\n",
       "7      Sales   Hannah   68000           5    Berlin"
      ]
     },
     "execution_count": 35,
     "metadata": {},
     "output_type": "execute_result"
    }
   ],
   "source": [
    "allowed = {\"Finance\", \"Sales\"}\n",
    "df[df[\"Department\"].isin(allowed)]"
   ]
  },
  {
   "cell_type": "markdown",
   "id": "7c0a4d2d-3e58-4369-8ef6-71a76fa841b4",
   "metadata": {},
   "source": [
    "👉 Select only Finance and Sales rows."
   ]
  },
  {
   "cell_type": "code",
   "execution_count": null,
   "id": "5079d06b-6844-4e76-b0b1-cac3cb54b3bd",
   "metadata": {},
   "outputs": [],
   "source": [
    "df[(df[\"Department\"].isin([\"IT\", \"Finance\"])) & (df[\"Salary\"] > 60000)]"
   ]
  },
  {
   "cell_type": "markdown",
   "id": "ecd0ba27-37da-48e5-b79f-e727353afb2c",
   "metadata": {},
   "source": [
    "👉 Select rows where Department matches another list/Series."
   ]
  },
  {
   "cell_type": "code",
   "execution_count": 37,
   "id": "92d54eb2-910b-4487-a7b3-234eac1c9746",
   "metadata": {},
   "outputs": [
    {
     "data": {
      "text/html": [
       "<div>\n",
       "<style scoped>\n",
       "    .dataframe tbody tr th:only-of-type {\n",
       "        vertical-align: middle;\n",
       "    }\n",
       "\n",
       "    .dataframe tbody tr th {\n",
       "        vertical-align: top;\n",
       "    }\n",
       "\n",
       "    .dataframe thead th {\n",
       "        text-align: right;\n",
       "    }\n",
       "</style>\n",
       "<table border=\"1\" class=\"dataframe\">\n",
       "  <thead>\n",
       "    <tr style=\"text-align: right;\">\n",
       "      <th></th>\n",
       "      <th>Department</th>\n",
       "      <th>Employee</th>\n",
       "      <th>Salary</th>\n",
       "      <th>Experience</th>\n",
       "      <th>Location</th>\n",
       "    </tr>\n",
       "  </thead>\n",
       "  <tbody>\n",
       "    <tr>\n",
       "      <th>0</th>\n",
       "      <td>HR</td>\n",
       "      <td>Alice</td>\n",
       "      <td>50000</td>\n",
       "      <td>3</td>\n",
       "      <td>New York</td>\n",
       "    </tr>\n",
       "    <tr>\n",
       "      <th>1</th>\n",
       "      <td>HR</td>\n",
       "      <td>Bob</td>\n",
       "      <td>52000</td>\n",
       "      <td>4</td>\n",
       "      <td>London</td>\n",
       "    </tr>\n",
       "    <tr>\n",
       "      <th>6</th>\n",
       "      <td>Sales</td>\n",
       "      <td>Grace</td>\n",
       "      <td>65000</td>\n",
       "      <td>4</td>\n",
       "      <td>Berlin</td>\n",
       "    </tr>\n",
       "    <tr>\n",
       "      <th>7</th>\n",
       "      <td>Sales</td>\n",
       "      <td>Hannah</td>\n",
       "      <td>68000</td>\n",
       "      <td>5</td>\n",
       "      <td>Berlin</td>\n",
       "    </tr>\n",
       "  </tbody>\n",
       "</table>\n",
       "</div>"
      ],
      "text/plain": [
       "  Department Employee  Salary  Experience  Location\n",
       "0         HR    Alice   50000           3  New York\n",
       "1         HR      Bob   52000           4    London\n",
       "6      Sales    Grace   65000           4    Berlin\n",
       "7      Sales   Hannah   68000           5    Berlin"
      ]
     },
     "execution_count": 37,
     "metadata": {},
     "output_type": "execute_result"
    }
   ],
   "source": [
    "allowed_departments = pd.Series([\"HR\", \"Sales\"])\n",
    "df[df[\"Department\"].isin(allowed_departments)]"
   ]
  },
  {
   "cell_type": "markdown",
   "id": "0e119d82-fe9f-4551-8993-b4829b402432",
   "metadata": {},
   "source": [
    "👉 Select rows where Department matches another list/Series."
   ]
  },
  {
   "cell_type": "code",
   "execution_count": 38,
   "id": "58b35f20-953e-4630-b1fc-ea623f7822f7",
   "metadata": {},
   "outputs": [
    {
     "data": {
      "text/html": [
       "<div>\n",
       "<style scoped>\n",
       "    .dataframe tbody tr th:only-of-type {\n",
       "        vertical-align: middle;\n",
       "    }\n",
       "\n",
       "    .dataframe tbody tr th {\n",
       "        vertical-align: top;\n",
       "    }\n",
       "\n",
       "    .dataframe thead th {\n",
       "        text-align: right;\n",
       "    }\n",
       "</style>\n",
       "<table border=\"1\" class=\"dataframe\">\n",
       "  <thead>\n",
       "    <tr style=\"text-align: right;\">\n",
       "      <th></th>\n",
       "      <th>Department</th>\n",
       "      <th>Employee</th>\n",
       "      <th>Salary</th>\n",
       "      <th>Experience</th>\n",
       "      <th>Location</th>\n",
       "    </tr>\n",
       "  </thead>\n",
       "  <tbody>\n",
       "    <tr>\n",
       "      <th>2</th>\n",
       "      <td>Finance</td>\n",
       "      <td>Charlie</td>\n",
       "      <td>60000</td>\n",
       "      <td>5</td>\n",
       "      <td>New York</td>\n",
       "    </tr>\n",
       "    <tr>\n",
       "      <th>4</th>\n",
       "      <td>IT</td>\n",
       "      <td>Eva</td>\n",
       "      <td>75000</td>\n",
       "      <td>8</td>\n",
       "      <td>Tokyo</td>\n",
       "    </tr>\n",
       "    <tr>\n",
       "      <th>5</th>\n",
       "      <td>IT</td>\n",
       "      <td>Frank</td>\n",
       "      <td>77000</td>\n",
       "      <td>7</td>\n",
       "      <td>Tokyo</td>\n",
       "    </tr>\n",
       "    <tr>\n",
       "      <th>6</th>\n",
       "      <td>Sales</td>\n",
       "      <td>Grace</td>\n",
       "      <td>65000</td>\n",
       "      <td>4</td>\n",
       "      <td>Berlin</td>\n",
       "    </tr>\n",
       "    <tr>\n",
       "      <th>7</th>\n",
       "      <td>Sales</td>\n",
       "      <td>Hannah</td>\n",
       "      <td>68000</td>\n",
       "      <td>5</td>\n",
       "      <td>Berlin</td>\n",
       "    </tr>\n",
       "  </tbody>\n",
       "</table>\n",
       "</div>"
      ],
      "text/plain": [
       "  Department Employee  Salary  Experience  Location\n",
       "2    Finance  Charlie   60000           5  New York\n",
       "4         IT      Eva   75000           8     Tokyo\n",
       "5         IT    Frank   77000           7     Tokyo\n",
       "6      Sales    Grace   65000           4    Berlin\n",
       "7      Sales   Hannah   68000           5    Berlin"
      ]
     },
     "execution_count": 38,
     "metadata": {},
     "output_type": "execute_result"
    }
   ],
   "source": [
    "df[~df[[\"Department\", \"Location\"]].isin({\n",
    "    \"Department\": [\"HR\"],\n",
    "    \"Location\": [\"London\"]\n",
    "}).any(axis=1)]"
   ]
  },
  {
   "cell_type": "markdown",
   "id": "ed382167-1734-46af-b17e-0a73e8af27e2",
   "metadata": {},
   "source": [
    "👉 Drop rows where Department is HR OR Location is London."
   ]
  },
  {
   "cell_type": "code",
   "execution_count": 39,
   "id": "e7ca05b8-42d4-413e-a79a-09f8092d1442",
   "metadata": {},
   "outputs": [
    {
     "data": {
      "text/html": [
       "<div>\n",
       "<style scoped>\n",
       "    .dataframe tbody tr th:only-of-type {\n",
       "        vertical-align: middle;\n",
       "    }\n",
       "\n",
       "    .dataframe tbody tr th {\n",
       "        vertical-align: top;\n",
       "    }\n",
       "\n",
       "    .dataframe thead th {\n",
       "        text-align: right;\n",
       "    }\n",
       "</style>\n",
       "<table border=\"1\" class=\"dataframe\">\n",
       "  <thead>\n",
       "    <tr style=\"text-align: right;\">\n",
       "      <th></th>\n",
       "      <th>Department</th>\n",
       "      <th>Employee</th>\n",
       "      <th>Salary</th>\n",
       "      <th>Experience</th>\n",
       "      <th>Location</th>\n",
       "    </tr>\n",
       "  </thead>\n",
       "  <tbody>\n",
       "    <tr>\n",
       "      <th>4</th>\n",
       "      <td>IT</td>\n",
       "      <td>Eva</td>\n",
       "      <td>75000</td>\n",
       "      <td>8</td>\n",
       "      <td>Tokyo</td>\n",
       "    </tr>\n",
       "    <tr>\n",
       "      <th>5</th>\n",
       "      <td>IT</td>\n",
       "      <td>Frank</td>\n",
       "      <td>77000</td>\n",
       "      <td>7</td>\n",
       "      <td>Tokyo</td>\n",
       "    </tr>\n",
       "    <tr>\n",
       "      <th>7</th>\n",
       "      <td>Sales</td>\n",
       "      <td>Hannah</td>\n",
       "      <td>68000</td>\n",
       "      <td>5</td>\n",
       "      <td>Berlin</td>\n",
       "    </tr>\n",
       "  </tbody>\n",
       "</table>\n",
       "</div>"
      ],
      "text/plain": [
       "  Department Employee  Salary  Experience Location\n",
       "4         IT      Eva   75000           8    Tokyo\n",
       "5         IT    Frank   77000           7    Tokyo\n",
       "7      Sales   Hannah   68000           5   Berlin"
      ]
     },
     "execution_count": 39,
     "metadata": {},
     "output_type": "execute_result"
    }
   ],
   "source": [
    "df.query(\"Salary > 60000 and Experience >= 5\")"
   ]
  },
  {
   "cell_type": "markdown",
   "id": "3c189c45-a995-4af9-bb8b-4c68a14cebdf",
   "metadata": {},
   "source": [
    "👉 Salary above 60k and at least 5 years of experience."
   ]
  },
  {
   "cell_type": "code",
   "execution_count": 40,
   "id": "45d0d291-bc9e-4dfa-91f6-66135ca5757b",
   "metadata": {},
   "outputs": [
    {
     "data": {
      "text/html": [
       "<div>\n",
       "<style scoped>\n",
       "    .dataframe tbody tr th:only-of-type {\n",
       "        vertical-align: middle;\n",
       "    }\n",
       "\n",
       "    .dataframe tbody tr th {\n",
       "        vertical-align: top;\n",
       "    }\n",
       "\n",
       "    .dataframe thead th {\n",
       "        text-align: right;\n",
       "    }\n",
       "</style>\n",
       "<table border=\"1\" class=\"dataframe\">\n",
       "  <thead>\n",
       "    <tr style=\"text-align: right;\">\n",
       "      <th></th>\n",
       "      <th>Department</th>\n",
       "      <th>Employee</th>\n",
       "      <th>Salary</th>\n",
       "      <th>Experience</th>\n",
       "      <th>Location</th>\n",
       "    </tr>\n",
       "  </thead>\n",
       "  <tbody>\n",
       "    <tr>\n",
       "      <th>4</th>\n",
       "      <td>IT</td>\n",
       "      <td>Eva</td>\n",
       "      <td>75000</td>\n",
       "      <td>8</td>\n",
       "      <td>Tokyo</td>\n",
       "    </tr>\n",
       "    <tr>\n",
       "      <th>5</th>\n",
       "      <td>IT</td>\n",
       "      <td>Frank</td>\n",
       "      <td>77000</td>\n",
       "      <td>7</td>\n",
       "      <td>Tokyo</td>\n",
       "    </tr>\n",
       "    <tr>\n",
       "      <th>6</th>\n",
       "      <td>Sales</td>\n",
       "      <td>Grace</td>\n",
       "      <td>65000</td>\n",
       "      <td>4</td>\n",
       "      <td>Berlin</td>\n",
       "    </tr>\n",
       "    <tr>\n",
       "      <th>7</th>\n",
       "      <td>Sales</td>\n",
       "      <td>Hannah</td>\n",
       "      <td>68000</td>\n",
       "      <td>5</td>\n",
       "      <td>Berlin</td>\n",
       "    </tr>\n",
       "  </tbody>\n",
       "</table>\n",
       "</div>"
      ],
      "text/plain": [
       "  Department Employee  Salary  Experience Location\n",
       "4         IT      Eva   75000           8    Tokyo\n",
       "5         IT    Frank   77000           7    Tokyo\n",
       "6      Sales    Grace   65000           4   Berlin\n",
       "7      Sales   Hannah   68000           5   Berlin"
      ]
     },
     "execution_count": 40,
     "metadata": {},
     "output_type": "execute_result"
    }
   ],
   "source": [
    "df.query(\"Salary > 60000\")\n"
   ]
  },
  {
   "cell_type": "markdown",
   "id": "ce076bea-e7e2-47ec-9317-c084a7d693d6",
   "metadata": {},
   "source": [
    "👉 Employees earning more than 60,000."
   ]
  },
  {
   "cell_type": "code",
   "execution_count": 42,
   "id": "e7fa2af8-a1ee-42e1-b04b-849afae582cd",
   "metadata": {},
   "outputs": [
    {
     "data": {
      "text/html": [
       "<div>\n",
       "<style scoped>\n",
       "    .dataframe tbody tr th:only-of-type {\n",
       "        vertical-align: middle;\n",
       "    }\n",
       "\n",
       "    .dataframe tbody tr th {\n",
       "        vertical-align: top;\n",
       "    }\n",
       "\n",
       "    .dataframe thead th {\n",
       "        text-align: right;\n",
       "    }\n",
       "</style>\n",
       "<table border=\"1\" class=\"dataframe\">\n",
       "  <thead>\n",
       "    <tr style=\"text-align: right;\">\n",
       "      <th></th>\n",
       "      <th>Department</th>\n",
       "      <th>Employee</th>\n",
       "      <th>Salary</th>\n",
       "      <th>Experience</th>\n",
       "      <th>Location</th>\n",
       "    </tr>\n",
       "  </thead>\n",
       "  <tbody>\n",
       "    <tr>\n",
       "      <th>2</th>\n",
       "      <td>Finance</td>\n",
       "      <td>Charlie</td>\n",
       "      <td>60000</td>\n",
       "      <td>5</td>\n",
       "      <td>New York</td>\n",
       "    </tr>\n",
       "    <tr>\n",
       "      <th>3</th>\n",
       "      <td>Finance</td>\n",
       "      <td>David</td>\n",
       "      <td>58000</td>\n",
       "      <td>6</td>\n",
       "      <td>London</td>\n",
       "    </tr>\n",
       "    <tr>\n",
       "      <th>4</th>\n",
       "      <td>IT</td>\n",
       "      <td>Eva</td>\n",
       "      <td>75000</td>\n",
       "      <td>8</td>\n",
       "      <td>Tokyo</td>\n",
       "    </tr>\n",
       "    <tr>\n",
       "      <th>5</th>\n",
       "      <td>IT</td>\n",
       "      <td>Frank</td>\n",
       "      <td>77000</td>\n",
       "      <td>7</td>\n",
       "      <td>Tokyo</td>\n",
       "    </tr>\n",
       "  </tbody>\n",
       "</table>\n",
       "</div>"
      ],
      "text/plain": [
       "  Department Employee  Salary  Experience  Location\n",
       "2    Finance  Charlie   60000           5  New York\n",
       "3    Finance    David   58000           6    London\n",
       "4         IT      Eva   75000           8     Tokyo\n",
       "5         IT    Frank   77000           7     Tokyo"
      ]
     },
     "execution_count": 42,
     "metadata": {},
     "output_type": "execute_result"
    }
   ],
   "source": [
    "df.query(\"Department == 'IT' or Department == 'Finance'\")"
   ]
  },
  {
   "cell_type": "markdown",
   "id": "cb5b7dc3-ab58-4add-9777-7231cf5e57d4",
   "metadata": {},
   "source": [
    "👉 Selects employees from IT or Finance."
   ]
  },
  {
   "cell_type": "code",
   "execution_count": 43,
   "id": "8d5508de-0c30-4d29-95dc-22ee8f8d4ee7",
   "metadata": {},
   "outputs": [
    {
     "data": {
      "text/html": [
       "<div>\n",
       "<style scoped>\n",
       "    .dataframe tbody tr th:only-of-type {\n",
       "        vertical-align: middle;\n",
       "    }\n",
       "\n",
       "    .dataframe tbody tr th {\n",
       "        vertical-align: top;\n",
       "    }\n",
       "\n",
       "    .dataframe thead th {\n",
       "        text-align: right;\n",
       "    }\n",
       "</style>\n",
       "<table border=\"1\" class=\"dataframe\">\n",
       "  <thead>\n",
       "    <tr style=\"text-align: right;\">\n",
       "      <th></th>\n",
       "      <th>Department</th>\n",
       "      <th>Employee</th>\n",
       "      <th>Salary</th>\n",
       "      <th>Experience</th>\n",
       "      <th>Location</th>\n",
       "    </tr>\n",
       "  </thead>\n",
       "  <tbody>\n",
       "    <tr>\n",
       "      <th>0</th>\n",
       "      <td>HR</td>\n",
       "      <td>Alice</td>\n",
       "      <td>50000</td>\n",
       "      <td>3</td>\n",
       "      <td>New York</td>\n",
       "    </tr>\n",
       "    <tr>\n",
       "      <th>1</th>\n",
       "      <td>HR</td>\n",
       "      <td>Bob</td>\n",
       "      <td>52000</td>\n",
       "      <td>4</td>\n",
       "      <td>London</td>\n",
       "    </tr>\n",
       "    <tr>\n",
       "      <th>6</th>\n",
       "      <td>Sales</td>\n",
       "      <td>Grace</td>\n",
       "      <td>65000</td>\n",
       "      <td>4</td>\n",
       "      <td>Berlin</td>\n",
       "    </tr>\n",
       "    <tr>\n",
       "      <th>7</th>\n",
       "      <td>Sales</td>\n",
       "      <td>Hannah</td>\n",
       "      <td>68000</td>\n",
       "      <td>5</td>\n",
       "      <td>Berlin</td>\n",
       "    </tr>\n",
       "  </tbody>\n",
       "</table>\n",
       "</div>"
      ],
      "text/plain": [
       "  Department Employee  Salary  Experience  Location\n",
       "0         HR    Alice   50000           3  New York\n",
       "1         HR      Bob   52000           4    London\n",
       "6      Sales    Grace   65000           4    Berlin\n",
       "7      Sales   Hannah   68000           5    Berlin"
      ]
     },
     "execution_count": 43,
     "metadata": {},
     "output_type": "execute_result"
    }
   ],
   "source": [
    "df.query(\"Department in ['HR','Sales']\")"
   ]
  },
  {
   "cell_type": "markdown",
   "id": "3835751b-3c2f-448d-b60e-12578b4e303c",
   "metadata": {},
   "source": [
    "👉 Only HR and Sales departments."
   ]
  },
  {
   "cell_type": "code",
   "execution_count": 44,
   "id": "e026b1b9-2dec-4d6d-b6a1-b69486ba486a",
   "metadata": {},
   "outputs": [
    {
     "data": {
      "text/html": [
       "<div>\n",
       "<style scoped>\n",
       "    .dataframe tbody tr th:only-of-type {\n",
       "        vertical-align: middle;\n",
       "    }\n",
       "\n",
       "    .dataframe tbody tr th {\n",
       "        vertical-align: top;\n",
       "    }\n",
       "\n",
       "    .dataframe thead th {\n",
       "        text-align: right;\n",
       "    }\n",
       "</style>\n",
       "<table border=\"1\" class=\"dataframe\">\n",
       "  <thead>\n",
       "    <tr style=\"text-align: right;\">\n",
       "      <th></th>\n",
       "      <th>Department</th>\n",
       "      <th>Employee</th>\n",
       "      <th>Salary</th>\n",
       "      <th>Experience</th>\n",
       "      <th>Location</th>\n",
       "    </tr>\n",
       "  </thead>\n",
       "  <tbody>\n",
       "    <tr>\n",
       "      <th>4</th>\n",
       "      <td>IT</td>\n",
       "      <td>Eva</td>\n",
       "      <td>75000</td>\n",
       "      <td>8</td>\n",
       "      <td>Tokyo</td>\n",
       "    </tr>\n",
       "    <tr>\n",
       "      <th>5</th>\n",
       "      <td>IT</td>\n",
       "      <td>Frank</td>\n",
       "      <td>77000</td>\n",
       "      <td>7</td>\n",
       "      <td>Tokyo</td>\n",
       "    </tr>\n",
       "    <tr>\n",
       "      <th>6</th>\n",
       "      <td>Sales</td>\n",
       "      <td>Grace</td>\n",
       "      <td>65000</td>\n",
       "      <td>4</td>\n",
       "      <td>Berlin</td>\n",
       "    </tr>\n",
       "    <tr>\n",
       "      <th>7</th>\n",
       "      <td>Sales</td>\n",
       "      <td>Hannah</td>\n",
       "      <td>68000</td>\n",
       "      <td>5</td>\n",
       "      <td>Berlin</td>\n",
       "    </tr>\n",
       "  </tbody>\n",
       "</table>\n",
       "</div>"
      ],
      "text/plain": [
       "  Department Employee  Salary  Experience Location\n",
       "4         IT      Eva   75000           8    Tokyo\n",
       "5         IT    Frank   77000           7    Tokyo\n",
       "6      Sales    Grace   65000           4   Berlin\n",
       "7      Sales   Hannah   68000           5   Berlin"
      ]
     },
     "execution_count": 44,
     "metadata": {},
     "output_type": "execute_result"
    }
   ],
   "source": [
    "df.query(\"Department not in ['HR','Finance']\")"
   ]
  },
  {
   "cell_type": "markdown",
   "id": "ea7d51b3-9def-48de-af02-d860b8edc54b",
   "metadata": {},
   "source": [
    "👉 Excludes HR and Finance."
   ]
  },
  {
   "cell_type": "code",
   "execution_count": 45,
   "id": "e9b6d983-5ca6-44f8-8ed8-9eb3f0ec346d",
   "metadata": {},
   "outputs": [
    {
     "data": {
      "text/html": [
       "<div>\n",
       "<style scoped>\n",
       "    .dataframe tbody tr th:only-of-type {\n",
       "        vertical-align: middle;\n",
       "    }\n",
       "\n",
       "    .dataframe tbody tr th {\n",
       "        vertical-align: top;\n",
       "    }\n",
       "\n",
       "    .dataframe thead th {\n",
       "        text-align: right;\n",
       "    }\n",
       "</style>\n",
       "<table border=\"1\" class=\"dataframe\">\n",
       "  <thead>\n",
       "    <tr style=\"text-align: right;\">\n",
       "      <th></th>\n",
       "      <th>Department</th>\n",
       "      <th>Employee</th>\n",
       "      <th>Salary</th>\n",
       "      <th>Experience</th>\n",
       "      <th>Location</th>\n",
       "    </tr>\n",
       "  </thead>\n",
       "  <tbody>\n",
       "    <tr>\n",
       "      <th>0</th>\n",
       "      <td>HR</td>\n",
       "      <td>Alice</td>\n",
       "      <td>50000</td>\n",
       "      <td>3</td>\n",
       "      <td>New York</td>\n",
       "    </tr>\n",
       "  </tbody>\n",
       "</table>\n",
       "</div>"
      ],
      "text/plain": [
       "  Department Employee  Salary  Experience  Location\n",
       "0         HR    Alice   50000           3  New York"
      ]
     },
     "execution_count": 45,
     "metadata": {},
     "output_type": "execute_result"
    }
   ],
   "source": [
    "df.query(\"Employee == 'Alice'\")"
   ]
  },
  {
   "cell_type": "markdown",
   "id": "d6bdde8c-ade6-47c0-b855-57337921f5a1",
   "metadata": {},
   "source": [
    "👉 Selects Alice’s row."
   ]
  },
  {
   "cell_type": "code",
   "execution_count": 46,
   "id": "334399fc-cd4a-45c3-aaa6-a0cec0c45155",
   "metadata": {},
   "outputs": [
    {
     "data": {
      "text/html": [
       "<div>\n",
       "<style scoped>\n",
       "    .dataframe tbody tr th:only-of-type {\n",
       "        vertical-align: middle;\n",
       "    }\n",
       "\n",
       "    .dataframe tbody tr th {\n",
       "        vertical-align: top;\n",
       "    }\n",
       "\n",
       "    .dataframe thead th {\n",
       "        text-align: right;\n",
       "    }\n",
       "</style>\n",
       "<table border=\"1\" class=\"dataframe\">\n",
       "  <thead>\n",
       "    <tr style=\"text-align: right;\">\n",
       "      <th></th>\n",
       "      <th>Department</th>\n",
       "      <th>Employee</th>\n",
       "      <th>Salary</th>\n",
       "      <th>Experience</th>\n",
       "      <th>Location</th>\n",
       "    </tr>\n",
       "  </thead>\n",
       "  <tbody>\n",
       "    <tr>\n",
       "      <th>4</th>\n",
       "      <td>IT</td>\n",
       "      <td>Eva</td>\n",
       "      <td>75000</td>\n",
       "      <td>8</td>\n",
       "      <td>Tokyo</td>\n",
       "    </tr>\n",
       "    <tr>\n",
       "      <th>5</th>\n",
       "      <td>IT</td>\n",
       "      <td>Frank</td>\n",
       "      <td>77000</td>\n",
       "      <td>7</td>\n",
       "      <td>Tokyo</td>\n",
       "    </tr>\n",
       "  </tbody>\n",
       "</table>\n",
       "</div>"
      ],
      "text/plain": [
       "  Department Employee  Salary  Experience Location\n",
       "4         IT      Eva   75000           8    Tokyo\n",
       "5         IT    Frank   77000           7    Tokyo"
      ]
     },
     "execution_count": 46,
     "metadata": {},
     "output_type": "execute_result"
    }
   ],
   "source": [
    "df.query(\"Department in ['IT','Sales'] and Salary > 70000\")"
   ]
  },
  {
   "cell_type": "markdown",
   "id": "ac1ff689-ccbd-4517-873a-3ed89514960c",
   "metadata": {},
   "source": [
    "👉 Employees from IT or Sales with Salary > 70k."
   ]
  },
  {
   "cell_type": "code",
   "execution_count": 47,
   "id": "b44e55c8-4afa-4e53-8d4a-8c6c06b83825",
   "metadata": {},
   "outputs": [
    {
     "data": {
      "text/html": [
       "<div>\n",
       "<style scoped>\n",
       "    .dataframe tbody tr th:only-of-type {\n",
       "        vertical-align: middle;\n",
       "    }\n",
       "\n",
       "    .dataframe tbody tr th {\n",
       "        vertical-align: top;\n",
       "    }\n",
       "\n",
       "    .dataframe thead th {\n",
       "        text-align: right;\n",
       "    }\n",
       "</style>\n",
       "<table border=\"1\" class=\"dataframe\">\n",
       "  <thead>\n",
       "    <tr style=\"text-align: right;\">\n",
       "      <th></th>\n",
       "      <th>Department</th>\n",
       "      <th>Employee</th>\n",
       "      <th>Salary</th>\n",
       "      <th>Experience</th>\n",
       "      <th>Location</th>\n",
       "    </tr>\n",
       "  </thead>\n",
       "  <tbody>\n",
       "    <tr>\n",
       "      <th>2</th>\n",
       "      <td>Finance</td>\n",
       "      <td>Charlie</td>\n",
       "      <td>60000</td>\n",
       "      <td>5</td>\n",
       "      <td>New York</td>\n",
       "    </tr>\n",
       "    <tr>\n",
       "      <th>6</th>\n",
       "      <td>Sales</td>\n",
       "      <td>Grace</td>\n",
       "      <td>65000</td>\n",
       "      <td>4</td>\n",
       "      <td>Berlin</td>\n",
       "    </tr>\n",
       "    <tr>\n",
       "      <th>7</th>\n",
       "      <td>Sales</td>\n",
       "      <td>Hannah</td>\n",
       "      <td>68000</td>\n",
       "      <td>5</td>\n",
       "      <td>Berlin</td>\n",
       "    </tr>\n",
       "  </tbody>\n",
       "</table>\n",
       "</div>"
      ],
      "text/plain": [
       "  Department Employee  Salary  Experience  Location\n",
       "2    Finance  Charlie   60000           5  New York\n",
       "6      Sales    Grace   65000           4    Berlin\n",
       "7      Sales   Hannah   68000           5    Berlin"
      ]
     },
     "execution_count": 47,
     "metadata": {},
     "output_type": "execute_result"
    }
   ],
   "source": [
    "df.query(\"Salary >= 60000 and Salary <= 70000\")"
   ]
  },
  {
   "cell_type": "markdown",
   "id": "ece8859c-075a-47c2-8f4d-7c82f676a08d",
   "metadata": {},
   "source": [
    "👉 Salaries between 60k and 70k."
   ]
  },
  {
   "cell_type": "code",
   "execution_count": 48,
   "id": "27b83bd1-386d-4077-a271-1bc67b762080",
   "metadata": {},
   "outputs": [
    {
     "data": {
      "text/html": [
       "<div>\n",
       "<style scoped>\n",
       "    .dataframe tbody tr th:only-of-type {\n",
       "        vertical-align: middle;\n",
       "    }\n",
       "\n",
       "    .dataframe tbody tr th {\n",
       "        vertical-align: top;\n",
       "    }\n",
       "\n",
       "    .dataframe thead th {\n",
       "        text-align: right;\n",
       "    }\n",
       "</style>\n",
       "<table border=\"1\" class=\"dataframe\">\n",
       "  <thead>\n",
       "    <tr style=\"text-align: right;\">\n",
       "      <th></th>\n",
       "      <th>Department</th>\n",
       "      <th>Employee</th>\n",
       "      <th>Salary</th>\n",
       "      <th>Experience</th>\n",
       "      <th>Location</th>\n",
       "    </tr>\n",
       "  </thead>\n",
       "  <tbody>\n",
       "    <tr>\n",
       "      <th>4</th>\n",
       "      <td>IT</td>\n",
       "      <td>Eva</td>\n",
       "      <td>75000</td>\n",
       "      <td>8</td>\n",
       "      <td>Tokyo</td>\n",
       "    </tr>\n",
       "    <tr>\n",
       "      <th>5</th>\n",
       "      <td>IT</td>\n",
       "      <td>Frank</td>\n",
       "      <td>77000</td>\n",
       "      <td>7</td>\n",
       "      <td>Tokyo</td>\n",
       "    </tr>\n",
       "    <tr>\n",
       "      <th>6</th>\n",
       "      <td>Sales</td>\n",
       "      <td>Grace</td>\n",
       "      <td>65000</td>\n",
       "      <td>4</td>\n",
       "      <td>Berlin</td>\n",
       "    </tr>\n",
       "    <tr>\n",
       "      <th>7</th>\n",
       "      <td>Sales</td>\n",
       "      <td>Hannah</td>\n",
       "      <td>68000</td>\n",
       "      <td>5</td>\n",
       "      <td>Berlin</td>\n",
       "    </tr>\n",
       "  </tbody>\n",
       "</table>\n",
       "</div>"
      ],
      "text/plain": [
       "  Department Employee  Salary  Experience Location\n",
       "4         IT      Eva   75000           8    Tokyo\n",
       "5         IT    Frank   77000           7    Tokyo\n",
       "6      Sales    Grace   65000           4   Berlin\n",
       "7      Sales   Hannah   68000           5   Berlin"
      ]
     },
     "execution_count": 48,
     "metadata": {},
     "output_type": "execute_result"
    }
   ],
   "source": [
    "min_salary = 60000\n",
    "df.query(\"Salary > @min_salary\")"
   ]
  },
  {
   "cell_type": "markdown",
   "id": "a1b4551b-059b-4376-a166-aa585d5cc659",
   "metadata": {},
   "source": [
    "👉 @variable_name lets you use Python variables inside query()."
   ]
  },
  {
   "cell_type": "code",
   "execution_count": null,
   "id": "72b33d1a-84e5-4fb1-a21f-0fecd60defdf",
   "metadata": {},
   "outputs": [],
   "source": []
  },
  {
   "cell_type": "code",
   "execution_count": 49,
   "id": "482c142c-be17-43d0-8b21-1c9366fb044e",
   "metadata": {},
   "outputs": [
    {
     "data": {
      "text/html": [
       "<div>\n",
       "<style scoped>\n",
       "    .dataframe tbody tr th:only-of-type {\n",
       "        vertical-align: middle;\n",
       "    }\n",
       "\n",
       "    .dataframe tbody tr th {\n",
       "        vertical-align: top;\n",
       "    }\n",
       "\n",
       "    .dataframe thead th {\n",
       "        text-align: right;\n",
       "    }\n",
       "</style>\n",
       "<table border=\"1\" class=\"dataframe\">\n",
       "  <thead>\n",
       "    <tr style=\"text-align: right;\">\n",
       "      <th>Location</th>\n",
       "      <th>Berlin</th>\n",
       "      <th>London</th>\n",
       "      <th>New York</th>\n",
       "      <th>Tokyo</th>\n",
       "    </tr>\n",
       "    <tr>\n",
       "      <th>Department</th>\n",
       "      <th></th>\n",
       "      <th></th>\n",
       "      <th></th>\n",
       "      <th></th>\n",
       "    </tr>\n",
       "  </thead>\n",
       "  <tbody>\n",
       "    <tr>\n",
       "      <th>Finance</th>\n",
       "      <td>0</td>\n",
       "      <td>1</td>\n",
       "      <td>1</td>\n",
       "      <td>0</td>\n",
       "    </tr>\n",
       "    <tr>\n",
       "      <th>HR</th>\n",
       "      <td>0</td>\n",
       "      <td>1</td>\n",
       "      <td>1</td>\n",
       "      <td>0</td>\n",
       "    </tr>\n",
       "    <tr>\n",
       "      <th>IT</th>\n",
       "      <td>0</td>\n",
       "      <td>0</td>\n",
       "      <td>0</td>\n",
       "      <td>2</td>\n",
       "    </tr>\n",
       "    <tr>\n",
       "      <th>Sales</th>\n",
       "      <td>2</td>\n",
       "      <td>0</td>\n",
       "      <td>0</td>\n",
       "      <td>0</td>\n",
       "    </tr>\n",
       "  </tbody>\n",
       "</table>\n",
       "</div>"
      ],
      "text/plain": [
       "Location    Berlin  London  New York  Tokyo\n",
       "Department                                 \n",
       "Finance          0       1         1      0\n",
       "HR               0       1         1      0\n",
       "IT               0       0         0      2\n",
       "Sales            2       0         0      0"
      ]
     },
     "execution_count": 49,
     "metadata": {},
     "output_type": "execute_result"
    }
   ],
   "source": [
    "pd.crosstab(df[\"Department\"], df[\"Location\"])"
   ]
  },
  {
   "cell_type": "markdown",
   "id": "fc2407e5-dd67-455f-80f6-b02abc50786c",
   "metadata": {},
   "source": [
    "👉 Shows how many employees work in each Department across different Locations."
   ]
  },
  {
   "cell_type": "code",
   "execution_count": 50,
   "id": "eeb55ae7-d751-42dd-9964-6968d6227cd2",
   "metadata": {},
   "outputs": [
    {
     "data": {
      "text/html": [
       "<div>\n",
       "<style scoped>\n",
       "    .dataframe tbody tr th:only-of-type {\n",
       "        vertical-align: middle;\n",
       "    }\n",
       "\n",
       "    .dataframe tbody tr th {\n",
       "        vertical-align: top;\n",
       "    }\n",
       "\n",
       "    .dataframe thead th {\n",
       "        text-align: right;\n",
       "    }\n",
       "</style>\n",
       "<table border=\"1\" class=\"dataframe\">\n",
       "  <thead>\n",
       "    <tr style=\"text-align: right;\">\n",
       "      <th>Location</th>\n",
       "      <th>Berlin</th>\n",
       "      <th>London</th>\n",
       "      <th>New York</th>\n",
       "      <th>Tokyo</th>\n",
       "      <th>All</th>\n",
       "    </tr>\n",
       "    <tr>\n",
       "      <th>Department</th>\n",
       "      <th></th>\n",
       "      <th></th>\n",
       "      <th></th>\n",
       "      <th></th>\n",
       "      <th></th>\n",
       "    </tr>\n",
       "  </thead>\n",
       "  <tbody>\n",
       "    <tr>\n",
       "      <th>Finance</th>\n",
       "      <td>0</td>\n",
       "      <td>1</td>\n",
       "      <td>1</td>\n",
       "      <td>0</td>\n",
       "      <td>2</td>\n",
       "    </tr>\n",
       "    <tr>\n",
       "      <th>HR</th>\n",
       "      <td>0</td>\n",
       "      <td>1</td>\n",
       "      <td>1</td>\n",
       "      <td>0</td>\n",
       "      <td>2</td>\n",
       "    </tr>\n",
       "    <tr>\n",
       "      <th>IT</th>\n",
       "      <td>0</td>\n",
       "      <td>0</td>\n",
       "      <td>0</td>\n",
       "      <td>2</td>\n",
       "      <td>2</td>\n",
       "    </tr>\n",
       "    <tr>\n",
       "      <th>Sales</th>\n",
       "      <td>2</td>\n",
       "      <td>0</td>\n",
       "      <td>0</td>\n",
       "      <td>0</td>\n",
       "      <td>2</td>\n",
       "    </tr>\n",
       "    <tr>\n",
       "      <th>All</th>\n",
       "      <td>2</td>\n",
       "      <td>2</td>\n",
       "      <td>2</td>\n",
       "      <td>2</td>\n",
       "      <td>8</td>\n",
       "    </tr>\n",
       "  </tbody>\n",
       "</table>\n",
       "</div>"
      ],
      "text/plain": [
       "Location    Berlin  London  New York  Tokyo  All\n",
       "Department                                      \n",
       "Finance          0       1         1      0    2\n",
       "HR               0       1         1      0    2\n",
       "IT               0       0         0      2    2\n",
       "Sales            2       0         0      0    2\n",
       "All              2       2         2      2    8"
      ]
     },
     "execution_count": 50,
     "metadata": {},
     "output_type": "execute_result"
    }
   ],
   "source": [
    "pd.crosstab(df[\"Department\"], df[\"Location\"], margins=True)"
   ]
  },
  {
   "cell_type": "markdown",
   "id": "c00bab56-461d-44fe-8537-f15ced4c2325",
   "metadata": {},
   "source": [
    "👉 Adds a row/column called All = totals."
   ]
  },
  {
   "cell_type": "code",
   "execution_count": 51,
   "id": "19dd9633-55c5-4d01-9565-d73557409ea5",
   "metadata": {},
   "outputs": [
    {
     "data": {
      "text/html": [
       "<div>\n",
       "<style scoped>\n",
       "    .dataframe tbody tr th:only-of-type {\n",
       "        vertical-align: middle;\n",
       "    }\n",
       "\n",
       "    .dataframe tbody tr th {\n",
       "        vertical-align: top;\n",
       "    }\n",
       "\n",
       "    .dataframe thead th {\n",
       "        text-align: right;\n",
       "    }\n",
       "</style>\n",
       "<table border=\"1\" class=\"dataframe\">\n",
       "  <thead>\n",
       "    <tr style=\"text-align: right;\">\n",
       "      <th></th>\n",
       "      <th>Experience</th>\n",
       "      <th>3</th>\n",
       "      <th>4</th>\n",
       "      <th>5</th>\n",
       "      <th>6</th>\n",
       "      <th>7</th>\n",
       "      <th>8</th>\n",
       "    </tr>\n",
       "    <tr>\n",
       "      <th>Department</th>\n",
       "      <th>Location</th>\n",
       "      <th></th>\n",
       "      <th></th>\n",
       "      <th></th>\n",
       "      <th></th>\n",
       "      <th></th>\n",
       "      <th></th>\n",
       "    </tr>\n",
       "  </thead>\n",
       "  <tbody>\n",
       "    <tr>\n",
       "      <th rowspan=\"2\" valign=\"top\">Finance</th>\n",
       "      <th>London</th>\n",
       "      <td>0</td>\n",
       "      <td>0</td>\n",
       "      <td>0</td>\n",
       "      <td>1</td>\n",
       "      <td>0</td>\n",
       "      <td>0</td>\n",
       "    </tr>\n",
       "    <tr>\n",
       "      <th>New York</th>\n",
       "      <td>0</td>\n",
       "      <td>0</td>\n",
       "      <td>1</td>\n",
       "      <td>0</td>\n",
       "      <td>0</td>\n",
       "      <td>0</td>\n",
       "    </tr>\n",
       "    <tr>\n",
       "      <th rowspan=\"2\" valign=\"top\">HR</th>\n",
       "      <th>London</th>\n",
       "      <td>0</td>\n",
       "      <td>1</td>\n",
       "      <td>0</td>\n",
       "      <td>0</td>\n",
       "      <td>0</td>\n",
       "      <td>0</td>\n",
       "    </tr>\n",
       "    <tr>\n",
       "      <th>New York</th>\n",
       "      <td>1</td>\n",
       "      <td>0</td>\n",
       "      <td>0</td>\n",
       "      <td>0</td>\n",
       "      <td>0</td>\n",
       "      <td>0</td>\n",
       "    </tr>\n",
       "    <tr>\n",
       "      <th>IT</th>\n",
       "      <th>Tokyo</th>\n",
       "      <td>0</td>\n",
       "      <td>0</td>\n",
       "      <td>0</td>\n",
       "      <td>0</td>\n",
       "      <td>1</td>\n",
       "      <td>1</td>\n",
       "    </tr>\n",
       "    <tr>\n",
       "      <th>Sales</th>\n",
       "      <th>Berlin</th>\n",
       "      <td>0</td>\n",
       "      <td>1</td>\n",
       "      <td>1</td>\n",
       "      <td>0</td>\n",
       "      <td>0</td>\n",
       "      <td>0</td>\n",
       "    </tr>\n",
       "  </tbody>\n",
       "</table>\n",
       "</div>"
      ],
      "text/plain": [
       "Experience           3  4  5  6  7  8\n",
       "Department Location                  \n",
       "Finance    London    0  0  0  1  0  0\n",
       "           New York  0  0  1  0  0  0\n",
       "HR         London    0  1  0  0  0  0\n",
       "           New York  1  0  0  0  0  0\n",
       "IT         Tokyo     0  0  0  0  1  1\n",
       "Sales      Berlin    0  1  1  0  0  0"
      ]
     },
     "execution_count": 51,
     "metadata": {},
     "output_type": "execute_result"
    }
   ],
   "source": [
    "pd.crosstab([df[\"Department\"], df[\"Location\"]], df[\"Experience\"])"
   ]
  },
  {
   "cell_type": "markdown",
   "id": "2d66e1b2-fb4f-4384-beab-cb338bef508b",
   "metadata": {},
   "source": [
    "👉 Multi-level index: Department + Location vs Experience years."
   ]
  },
  {
   "cell_type": "code",
   "execution_count": 52,
   "id": "4ce375ba-4af8-4c61-a976-97fc3b79787c",
   "metadata": {},
   "outputs": [
    {
     "data": {
      "text/html": [
       "<div>\n",
       "<style scoped>\n",
       "    .dataframe tbody tr th:only-of-type {\n",
       "        vertical-align: middle;\n",
       "    }\n",
       "\n",
       "    .dataframe tbody tr th {\n",
       "        vertical-align: top;\n",
       "    }\n",
       "\n",
       "    .dataframe thead th {\n",
       "        text-align: right;\n",
       "    }\n",
       "</style>\n",
       "<table border=\"1\" class=\"dataframe\">\n",
       "  <thead>\n",
       "    <tr style=\"text-align: right;\">\n",
       "      <th></th>\n",
       "      <th>Department</th>\n",
       "      <th>Employee</th>\n",
       "      <th>Salary</th>\n",
       "      <th>Experience</th>\n",
       "      <th>Location</th>\n",
       "    </tr>\n",
       "  </thead>\n",
       "  <tbody>\n",
       "    <tr>\n",
       "      <th>0</th>\n",
       "      <td>HR</td>\n",
       "      <td>Alice</td>\n",
       "      <td>50000</td>\n",
       "      <td>3</td>\n",
       "      <td>New York</td>\n",
       "    </tr>\n",
       "    <tr>\n",
       "      <th>1</th>\n",
       "      <td>HR</td>\n",
       "      <td>Bob</td>\n",
       "      <td>52000</td>\n",
       "      <td>4</td>\n",
       "      <td>London</td>\n",
       "    </tr>\n",
       "    <tr>\n",
       "      <th>2</th>\n",
       "      <td>Finance</td>\n",
       "      <td>Charlie</td>\n",
       "      <td>60000</td>\n",
       "      <td>5</td>\n",
       "      <td>New York</td>\n",
       "    </tr>\n",
       "    <tr>\n",
       "      <th>3</th>\n",
       "      <td>Finance</td>\n",
       "      <td>David</td>\n",
       "      <td>58000</td>\n",
       "      <td>6</td>\n",
       "      <td>London</td>\n",
       "    </tr>\n",
       "    <tr>\n",
       "      <th>4</th>\n",
       "      <td>IT</td>\n",
       "      <td>Eva</td>\n",
       "      <td>75000</td>\n",
       "      <td>8</td>\n",
       "      <td>Tokyo</td>\n",
       "    </tr>\n",
       "    <tr>\n",
       "      <th>5</th>\n",
       "      <td>IT</td>\n",
       "      <td>Frank</td>\n",
       "      <td>77000</td>\n",
       "      <td>7</td>\n",
       "      <td>Tokyo</td>\n",
       "    </tr>\n",
       "    <tr>\n",
       "      <th>6</th>\n",
       "      <td>Sales</td>\n",
       "      <td>Grace</td>\n",
       "      <td>65000</td>\n",
       "      <td>4</td>\n",
       "      <td>Berlin</td>\n",
       "    </tr>\n",
       "    <tr>\n",
       "      <th>7</th>\n",
       "      <td>Sales</td>\n",
       "      <td>Hannah</td>\n",
       "      <td>68000</td>\n",
       "      <td>5</td>\n",
       "      <td>Berlin</td>\n",
       "    </tr>\n",
       "  </tbody>\n",
       "</table>\n",
       "</div>"
      ],
      "text/plain": [
       "  Department Employee  Salary  Experience  Location\n",
       "0         HR    Alice   50000           3  New York\n",
       "1         HR      Bob   52000           4    London\n",
       "2    Finance  Charlie   60000           5  New York\n",
       "3    Finance    David   58000           6    London\n",
       "4         IT      Eva   75000           8     Tokyo\n",
       "5         IT    Frank   77000           7     Tokyo\n",
       "6      Sales    Grace   65000           4    Berlin\n",
       "7      Sales   Hannah   68000           5    Berlin"
      ]
     },
     "execution_count": 52,
     "metadata": {},
     "output_type": "execute_result"
    }
   ],
   "source": [
    "df"
   ]
  },
  {
   "cell_type": "code",
   "execution_count": 53,
   "id": "3d1c5652-5984-4945-b61a-e947d337ff49",
   "metadata": {},
   "outputs": [
    {
     "data": {
      "text/html": [
       "<div>\n",
       "<style scoped>\n",
       "    .dataframe tbody tr th:only-of-type {\n",
       "        vertical-align: middle;\n",
       "    }\n",
       "\n",
       "    .dataframe tbody tr th {\n",
       "        vertical-align: top;\n",
       "    }\n",
       "\n",
       "    .dataframe thead th {\n",
       "        text-align: right;\n",
       "    }\n",
       "</style>\n",
       "<table border=\"1\" class=\"dataframe\">\n",
       "  <thead>\n",
       "    <tr style=\"text-align: right;\">\n",
       "      <th>Location</th>\n",
       "      <th>Berlin</th>\n",
       "      <th>London</th>\n",
       "      <th>New York</th>\n",
       "      <th>Tokyo</th>\n",
       "    </tr>\n",
       "    <tr>\n",
       "      <th>Department</th>\n",
       "      <th></th>\n",
       "      <th></th>\n",
       "      <th></th>\n",
       "      <th></th>\n",
       "    </tr>\n",
       "  </thead>\n",
       "  <tbody>\n",
       "    <tr>\n",
       "      <th>Finance</th>\n",
       "      <td>0.0</td>\n",
       "      <td>0.5</td>\n",
       "      <td>0.5</td>\n",
       "      <td>0.0</td>\n",
       "    </tr>\n",
       "    <tr>\n",
       "      <th>HR</th>\n",
       "      <td>0.0</td>\n",
       "      <td>0.5</td>\n",
       "      <td>0.5</td>\n",
       "      <td>0.0</td>\n",
       "    </tr>\n",
       "    <tr>\n",
       "      <th>IT</th>\n",
       "      <td>0.0</td>\n",
       "      <td>0.0</td>\n",
       "      <td>0.0</td>\n",
       "      <td>1.0</td>\n",
       "    </tr>\n",
       "    <tr>\n",
       "      <th>Sales</th>\n",
       "      <td>1.0</td>\n",
       "      <td>0.0</td>\n",
       "      <td>0.0</td>\n",
       "      <td>0.0</td>\n",
       "    </tr>\n",
       "  </tbody>\n",
       "</table>\n",
       "</div>"
      ],
      "text/plain": [
       "Location    Berlin  London  New York  Tokyo\n",
       "Department                                 \n",
       "Finance        0.0     0.5       0.5    0.0\n",
       "HR             0.0     0.5       0.5    0.0\n",
       "IT             0.0     0.0       0.0    1.0\n",
       "Sales          1.0     0.0       0.0    0.0"
      ]
     },
     "execution_count": 53,
     "metadata": {},
     "output_type": "execute_result"
    }
   ],
   "source": [
    "pd.crosstab(df[\"Department\"], df[\"Location\"], normalize=\"index\")"
   ]
  },
  {
   "cell_type": "markdown",
   "id": "102450a6-68db-44c7-970f-c0f46e839a15",
   "metadata": {},
   "source": []
  },
  {
   "cell_type": "markdown",
   "id": "c1f6caf0-2660-4aee-8583-ea25679ef20f",
   "metadata": {},
   "source": [
    "👉 Percentage of employees in each location per department."
   ]
  },
  {
   "cell_type": "code",
   "execution_count": 55,
   "id": "2ef02795-00f7-4aad-b30a-222038f668b9",
   "metadata": {},
   "outputs": [
    {
     "data": {
      "text/html": [
       "<div>\n",
       "<style scoped>\n",
       "    .dataframe tbody tr th:only-of-type {\n",
       "        vertical-align: middle;\n",
       "    }\n",
       "\n",
       "    .dataframe tbody tr th {\n",
       "        vertical-align: top;\n",
       "    }\n",
       "\n",
       "    .dataframe thead th {\n",
       "        text-align: right;\n",
       "    }\n",
       "</style>\n",
       "<table border=\"1\" class=\"dataframe\">\n",
       "  <thead>\n",
       "    <tr style=\"text-align: right;\">\n",
       "      <th>Location</th>\n",
       "      <th>Berlin</th>\n",
       "      <th>London</th>\n",
       "      <th>New York</th>\n",
       "      <th>Tokyo</th>\n",
       "    </tr>\n",
       "    <tr>\n",
       "      <th>Department</th>\n",
       "      <th></th>\n",
       "      <th></th>\n",
       "      <th></th>\n",
       "      <th></th>\n",
       "    </tr>\n",
       "  </thead>\n",
       "  <tbody>\n",
       "    <tr>\n",
       "      <th>Finance</th>\n",
       "      <td>NaN</td>\n",
       "      <td>58000.0</td>\n",
       "      <td>60000.0</td>\n",
       "      <td>NaN</td>\n",
       "    </tr>\n",
       "    <tr>\n",
       "      <th>HR</th>\n",
       "      <td>NaN</td>\n",
       "      <td>52000.0</td>\n",
       "      <td>50000.0</td>\n",
       "      <td>NaN</td>\n",
       "    </tr>\n",
       "    <tr>\n",
       "      <th>IT</th>\n",
       "      <td>NaN</td>\n",
       "      <td>NaN</td>\n",
       "      <td>NaN</td>\n",
       "      <td>76000.0</td>\n",
       "    </tr>\n",
       "    <tr>\n",
       "      <th>Sales</th>\n",
       "      <td>66500.0</td>\n",
       "      <td>NaN</td>\n",
       "      <td>NaN</td>\n",
       "      <td>NaN</td>\n",
       "    </tr>\n",
       "  </tbody>\n",
       "</table>\n",
       "</div>"
      ],
      "text/plain": [
       "Location     Berlin   London  New York    Tokyo\n",
       "Department                                     \n",
       "Finance         NaN  58000.0   60000.0      NaN\n",
       "HR              NaN  52000.0   50000.0      NaN\n",
       "IT              NaN      NaN       NaN  76000.0\n",
       "Sales       66500.0      NaN       NaN      NaN"
      ]
     },
     "execution_count": 55,
     "metadata": {},
     "output_type": "execute_result"
    }
   ],
   "source": [
    "pd.crosstab(df[\"Department\"], df[\"Location\"], values=df[\"Salary\"], aggfunc=\"mean\")"
   ]
  },
  {
   "cell_type": "markdown",
   "id": "33f57db9-95c8-430c-9ec1-513edf41c40b",
   "metadata": {},
   "source": [
    "👉 Instead of counts, shows average salary by Department & Location."
   ]
  },
  {
   "cell_type": "code",
   "execution_count": null,
   "id": "1ffa11f6-7914-4da2-9821-2f2d0b9ec2e4",
   "metadata": {},
   "outputs": [],
   "source": []
  },
  {
   "cell_type": "code",
   "execution_count": 56,
   "id": "09adc29b-c5a3-45ea-b2be-0cbaf3db9b09",
   "metadata": {},
   "outputs": [
    {
     "data": {
      "text/html": [
       "<div>\n",
       "<style scoped>\n",
       "    .dataframe tbody tr th:only-of-type {\n",
       "        vertical-align: middle;\n",
       "    }\n",
       "\n",
       "    .dataframe tbody tr th {\n",
       "        vertical-align: top;\n",
       "    }\n",
       "\n",
       "    .dataframe thead th {\n",
       "        text-align: right;\n",
       "    }\n",
       "</style>\n",
       "<table border=\"1\" class=\"dataframe\">\n",
       "  <thead>\n",
       "    <tr style=\"text-align: right;\">\n",
       "      <th>Department</th>\n",
       "      <th>Finance</th>\n",
       "      <th>HR</th>\n",
       "      <th>IT</th>\n",
       "      <th>Sales</th>\n",
       "    </tr>\n",
       "    <tr>\n",
       "      <th>Salary</th>\n",
       "      <th></th>\n",
       "      <th></th>\n",
       "      <th></th>\n",
       "      <th></th>\n",
       "    </tr>\n",
       "  </thead>\n",
       "  <tbody>\n",
       "    <tr>\n",
       "      <th>40k-60k</th>\n",
       "      <td>2</td>\n",
       "      <td>2</td>\n",
       "      <td>0</td>\n",
       "      <td>0</td>\n",
       "    </tr>\n",
       "    <tr>\n",
       "      <th>60k-70k</th>\n",
       "      <td>0</td>\n",
       "      <td>0</td>\n",
       "      <td>0</td>\n",
       "      <td>2</td>\n",
       "    </tr>\n",
       "    <tr>\n",
       "      <th>70k-80k</th>\n",
       "      <td>0</td>\n",
       "      <td>0</td>\n",
       "      <td>2</td>\n",
       "      <td>0</td>\n",
       "    </tr>\n",
       "  </tbody>\n",
       "</table>\n",
       "</div>"
      ],
      "text/plain": [
       "Department  Finance  HR  IT  Sales\n",
       "Salary                            \n",
       "40k-60k           2   2   0      0\n",
       "60k-70k           0   0   0      2\n",
       "70k-80k           0   0   2      0"
      ]
     },
     "execution_count": 56,
     "metadata": {},
     "output_type": "execute_result"
    }
   ],
   "source": [
    "salary_bins = [40000, 60000, 70000, 80000]\n",
    "salary_labels = [\"40k-60k\", \"60k-70k\", \"70k-80k\"]\n",
    "\n",
    "pd.crosstab(pd.cut(df[\"Salary\"], bins=salary_bins, labels=salary_labels),\n",
    "            df[\"Department\"])"
   ]
  },
  {
   "cell_type": "markdown",
   "id": "fa0c8f3c-c064-4923-b77c-06971960f4a2",
   "metadata": {},
   "source": [
    "👉 This shows how many employees fall in each salary range per department."
   ]
  },
  {
   "cell_type": "code",
   "execution_count": 57,
   "id": "9ad56cd7-9a09-4a0d-938c-6e764d4aa476",
   "metadata": {},
   "outputs": [
    {
     "data": {
      "text/html": [
       "<div>\n",
       "<style scoped>\n",
       "    .dataframe tbody tr th:only-of-type {\n",
       "        vertical-align: middle;\n",
       "    }\n",
       "\n",
       "    .dataframe tbody tr th {\n",
       "        vertical-align: top;\n",
       "    }\n",
       "\n",
       "    .dataframe thead th {\n",
       "        text-align: right;\n",
       "    }\n",
       "</style>\n",
       "<table border=\"1\" class=\"dataframe\">\n",
       "  <thead>\n",
       "    <tr style=\"text-align: right;\">\n",
       "      <th>Department</th>\n",
       "      <th>Finance</th>\n",
       "      <th>HR</th>\n",
       "      <th>IT</th>\n",
       "      <th>Sales</th>\n",
       "    </tr>\n",
       "    <tr>\n",
       "      <th>Experience</th>\n",
       "      <th></th>\n",
       "      <th></th>\n",
       "      <th></th>\n",
       "      <th></th>\n",
       "    </tr>\n",
       "  </thead>\n",
       "  <tbody>\n",
       "    <tr>\n",
       "      <th>0-3 yrs</th>\n",
       "      <td>0</td>\n",
       "      <td>1</td>\n",
       "      <td>0</td>\n",
       "      <td>0</td>\n",
       "    </tr>\n",
       "    <tr>\n",
       "      <th>4-5 yrs</th>\n",
       "      <td>1</td>\n",
       "      <td>1</td>\n",
       "      <td>0</td>\n",
       "      <td>2</td>\n",
       "    </tr>\n",
       "    <tr>\n",
       "      <th>6-10 yrs</th>\n",
       "      <td>1</td>\n",
       "      <td>0</td>\n",
       "      <td>2</td>\n",
       "      <td>0</td>\n",
       "    </tr>\n",
       "  </tbody>\n",
       "</table>\n",
       "</div>"
      ],
      "text/plain": [
       "Department  Finance  HR  IT  Sales\n",
       "Experience                        \n",
       "0-3 yrs           0   1   0      0\n",
       "4-5 yrs           1   1   0      2\n",
       "6-10 yrs          1   0   2      0"
      ]
     },
     "execution_count": 57,
     "metadata": {},
     "output_type": "execute_result"
    }
   ],
   "source": [
    "exp_bins = [0, 3, 5, 10]\n",
    "exp_labels = [\"0-3 yrs\", \"4-5 yrs\", \"6-10 yrs\"]\n",
    "\n",
    "pd.crosstab(pd.cut(df[\"Experience\"], bins=exp_bins, labels=exp_labels),\n",
    "            df[\"Department\"])"
   ]
  },
  {
   "cell_type": "markdown",
   "id": "e443c2c9-0462-4dee-b237-1add0d2d3a56",
   "metadata": {},
   "source": [
    "👉 This groups employees by experience range across departments"
   ]
  },
  {
   "cell_type": "code",
   "execution_count": 62,
   "id": "d3e659ec-2b86-46ce-a3e4-d7666449ba42",
   "metadata": {},
   "outputs": [
    {
     "data": {
      "text/html": [
       "<div>\n",
       "<style scoped>\n",
       "    .dataframe tbody tr th:only-of-type {\n",
       "        vertical-align: middle;\n",
       "    }\n",
       "\n",
       "    .dataframe tbody tr th {\n",
       "        vertical-align: top;\n",
       "    }\n",
       "\n",
       "    .dataframe thead th {\n",
       "        text-align: right;\n",
       "    }\n",
       "</style>\n",
       "<table border=\"1\" class=\"dataframe\">\n",
       "  <thead>\n",
       "    <tr style=\"text-align: right;\">\n",
       "      <th></th>\n",
       "      <th>Experience</th>\n",
       "      <th>False</th>\n",
       "      <th>True</th>\n",
       "    </tr>\n",
       "    <tr>\n",
       "      <th>Department</th>\n",
       "      <th>Location</th>\n",
       "      <th></th>\n",
       "      <th></th>\n",
       "    </tr>\n",
       "  </thead>\n",
       "  <tbody>\n",
       "    <tr>\n",
       "      <th rowspan=\"2\" valign=\"top\">Finance</th>\n",
       "      <th>London</th>\n",
       "      <td>0</td>\n",
       "      <td>1</td>\n",
       "    </tr>\n",
       "    <tr>\n",
       "      <th>New York</th>\n",
       "      <td>0</td>\n",
       "      <td>1</td>\n",
       "    </tr>\n",
       "    <tr>\n",
       "      <th rowspan=\"2\" valign=\"top\">HR</th>\n",
       "      <th>London</th>\n",
       "      <td>1</td>\n",
       "      <td>0</td>\n",
       "    </tr>\n",
       "    <tr>\n",
       "      <th>New York</th>\n",
       "      <td>1</td>\n",
       "      <td>0</td>\n",
       "    </tr>\n",
       "    <tr>\n",
       "      <th>IT</th>\n",
       "      <th>Tokyo</th>\n",
       "      <td>0</td>\n",
       "      <td>2</td>\n",
       "    </tr>\n",
       "    <tr>\n",
       "      <th>Sales</th>\n",
       "      <th>Berlin</th>\n",
       "      <td>1</td>\n",
       "      <td>1</td>\n",
       "    </tr>\n",
       "  </tbody>\n",
       "</table>\n",
       "</div>"
      ],
      "text/plain": [
       "Experience           False  True \n",
       "Department Location              \n",
       "Finance    London        0      1\n",
       "           New York      0      1\n",
       "HR         London        1      0\n",
       "           New York      1      0\n",
       "IT         Tokyo         0      2\n",
       "Sales      Berlin        1      1"
      ]
     },
     "execution_count": 62,
     "metadata": {},
     "output_type": "execute_result"
    }
   ],
   "source": [
    "pd.crosstab([df[\"Department\"],df[\"Location\"]],df[\"Experience\"] > 4)"
   ]
  },
  {
   "cell_type": "code",
   "execution_count": 63,
   "id": "f348dc4a-ceca-4336-b4f8-6d7198c8cc2a",
   "metadata": {},
   "outputs": [],
   "source": [
    "data = {\n",
    "    \"Department\": [\"HR\", \"HR\", \"Finance\", \"Finance\", \"IT\", \"IT\", \"Sales\", \"Sales\"],\n",
    "    \"Employee\": [\"Alice\", \"Bob\", \"Charlie\", \"David\", \"Eva\", \"Frank\", \"Grace\", \"Hannah\"],\n",
    "    \"Salary\": [50000, 52000, 60000, 58000, 75000, 77000, 65000, 68000],\n",
    "    \"Experience\": [3, 4, 5, 6, 8, 7, 4, 5],\n",
    "    \"Location\": [\"New York\", \"London\", \"New York\", \"London\", \"Tokyo\", \"Tokyo\", \"Berlin\", \"Berlin\"]\n",
    "}\n",
    "\n",
    "df = pd.DataFrame(data,index = [101,102,103,104,105,106,107,108])"
   ]
  },
  {
   "cell_type": "code",
   "execution_count": 64,
   "id": "0a84da98-7132-43c9-b70e-faf38bf5f06c",
   "metadata": {},
   "outputs": [
    {
     "data": {
      "text/html": [
       "<div>\n",
       "<style scoped>\n",
       "    .dataframe tbody tr th:only-of-type {\n",
       "        vertical-align: middle;\n",
       "    }\n",
       "\n",
       "    .dataframe tbody tr th {\n",
       "        vertical-align: top;\n",
       "    }\n",
       "\n",
       "    .dataframe thead th {\n",
       "        text-align: right;\n",
       "    }\n",
       "</style>\n",
       "<table border=\"1\" class=\"dataframe\">\n",
       "  <thead>\n",
       "    <tr style=\"text-align: right;\">\n",
       "      <th></th>\n",
       "      <th>Department</th>\n",
       "      <th>Employee</th>\n",
       "      <th>Salary</th>\n",
       "      <th>Experience</th>\n",
       "      <th>Location</th>\n",
       "    </tr>\n",
       "  </thead>\n",
       "  <tbody>\n",
       "    <tr>\n",
       "      <th>101</th>\n",
       "      <td>HR</td>\n",
       "      <td>Alice</td>\n",
       "      <td>50000</td>\n",
       "      <td>3</td>\n",
       "      <td>New York</td>\n",
       "    </tr>\n",
       "    <tr>\n",
       "      <th>102</th>\n",
       "      <td>HR</td>\n",
       "      <td>Bob</td>\n",
       "      <td>52000</td>\n",
       "      <td>4</td>\n",
       "      <td>London</td>\n",
       "    </tr>\n",
       "    <tr>\n",
       "      <th>103</th>\n",
       "      <td>Finance</td>\n",
       "      <td>Charlie</td>\n",
       "      <td>60000</td>\n",
       "      <td>5</td>\n",
       "      <td>New York</td>\n",
       "    </tr>\n",
       "    <tr>\n",
       "      <th>104</th>\n",
       "      <td>Finance</td>\n",
       "      <td>David</td>\n",
       "      <td>58000</td>\n",
       "      <td>6</td>\n",
       "      <td>London</td>\n",
       "    </tr>\n",
       "    <tr>\n",
       "      <th>105</th>\n",
       "      <td>IT</td>\n",
       "      <td>Eva</td>\n",
       "      <td>75000</td>\n",
       "      <td>8</td>\n",
       "      <td>Tokyo</td>\n",
       "    </tr>\n",
       "    <tr>\n",
       "      <th>106</th>\n",
       "      <td>IT</td>\n",
       "      <td>Frank</td>\n",
       "      <td>77000</td>\n",
       "      <td>7</td>\n",
       "      <td>Tokyo</td>\n",
       "    </tr>\n",
       "    <tr>\n",
       "      <th>107</th>\n",
       "      <td>Sales</td>\n",
       "      <td>Grace</td>\n",
       "      <td>65000</td>\n",
       "      <td>4</td>\n",
       "      <td>Berlin</td>\n",
       "    </tr>\n",
       "    <tr>\n",
       "      <th>108</th>\n",
       "      <td>Sales</td>\n",
       "      <td>Hannah</td>\n",
       "      <td>68000</td>\n",
       "      <td>5</td>\n",
       "      <td>Berlin</td>\n",
       "    </tr>\n",
       "  </tbody>\n",
       "</table>\n",
       "</div>"
      ],
      "text/plain": [
       "    Department Employee  Salary  Experience  Location\n",
       "101         HR    Alice   50000           3  New York\n",
       "102         HR      Bob   52000           4    London\n",
       "103    Finance  Charlie   60000           5  New York\n",
       "104    Finance    David   58000           6    London\n",
       "105         IT      Eva   75000           8     Tokyo\n",
       "106         IT    Frank   77000           7     Tokyo\n",
       "107      Sales    Grace   65000           4    Berlin\n",
       "108      Sales   Hannah   68000           5    Berlin"
      ]
     },
     "execution_count": 64,
     "metadata": {},
     "output_type": "execute_result"
    }
   ],
   "source": [
    "df"
   ]
  },
  {
   "cell_type": "code",
   "execution_count": 68,
   "id": "bf0338e3-7b2e-4686-9770-5053bee94fdb",
   "metadata": {},
   "outputs": [
    {
     "data": {
      "text/html": [
       "<div>\n",
       "<style scoped>\n",
       "    .dataframe tbody tr th:only-of-type {\n",
       "        vertical-align: middle;\n",
       "    }\n",
       "\n",
       "    .dataframe tbody tr th {\n",
       "        vertical-align: top;\n",
       "    }\n",
       "\n",
       "    .dataframe thead th {\n",
       "        text-align: right;\n",
       "    }\n",
       "</style>\n",
       "<table border=\"1\" class=\"dataframe\">\n",
       "  <thead>\n",
       "    <tr style=\"text-align: right;\">\n",
       "      <th></th>\n",
       "      <th>Department</th>\n",
       "      <th>Employee</th>\n",
       "      <th>Salary</th>\n",
       "      <th>Experience</th>\n",
       "      <th>Location</th>\n",
       "    </tr>\n",
       "  </thead>\n",
       "  <tbody>\n",
       "    <tr>\n",
       "      <th>101</th>\n",
       "      <td>HR</td>\n",
       "      <td>Alice</td>\n",
       "      <td>50000</td>\n",
       "      <td>3</td>\n",
       "      <td>New York</td>\n",
       "    </tr>\n",
       "    <tr>\n",
       "      <th>102</th>\n",
       "      <td>HR</td>\n",
       "      <td>Bob</td>\n",
       "      <td>52000</td>\n",
       "      <td>4</td>\n",
       "      <td>London</td>\n",
       "    </tr>\n",
       "    <tr>\n",
       "      <th>103</th>\n",
       "      <td>Finance</td>\n",
       "      <td>Charlie</td>\n",
       "      <td>60000</td>\n",
       "      <td>5</td>\n",
       "      <td>New York</td>\n",
       "    </tr>\n",
       "    <tr>\n",
       "      <th>104</th>\n",
       "      <td>Finance</td>\n",
       "      <td>David</td>\n",
       "      <td>58000</td>\n",
       "      <td>6</td>\n",
       "      <td>London</td>\n",
       "    </tr>\n",
       "    <tr>\n",
       "      <th>105</th>\n",
       "      <td>IT</td>\n",
       "      <td>Eva</td>\n",
       "      <td>75000</td>\n",
       "      <td>8</td>\n",
       "      <td>Tokyo</td>\n",
       "    </tr>\n",
       "  </tbody>\n",
       "</table>\n",
       "</div>"
      ],
      "text/plain": [
       "    Department Employee  Salary  Experience  Location\n",
       "101         HR    Alice   50000           3  New York\n",
       "102         HR      Bob   52000           4    London\n",
       "103    Finance  Charlie   60000           5  New York\n",
       "104    Finance    David   58000           6    London\n",
       "105         IT      Eva   75000           8     Tokyo"
      ]
     },
     "execution_count": 68,
     "metadata": {},
     "output_type": "execute_result"
    }
   ],
   "source": [
    "df.iloc[:5,:]"
   ]
  },
  {
   "cell_type": "code",
   "execution_count": 69,
   "id": "4ee6ea41-8cd5-4e41-a9d9-e79e43829422",
   "metadata": {},
   "outputs": [
    {
     "data": {
      "text/plain": [
       "Department          HR\n",
       "Employee         Alice\n",
       "Salary           50000\n",
       "Experience           3\n",
       "Location      New York\n",
       "Name: 101, dtype: object"
      ]
     },
     "execution_count": 69,
     "metadata": {},
     "output_type": "execute_result"
    }
   ],
   "source": [
    "df.iloc[0]"
   ]
  },
  {
   "cell_type": "code",
   "execution_count": 70,
   "id": "f2c5f469-bddb-484f-b6b5-05e642bebd11",
   "metadata": {},
   "outputs": [
    {
     "data": {
      "text/html": [
       "<div>\n",
       "<style scoped>\n",
       "    .dataframe tbody tr th:only-of-type {\n",
       "        vertical-align: middle;\n",
       "    }\n",
       "\n",
       "    .dataframe tbody tr th {\n",
       "        vertical-align: top;\n",
       "    }\n",
       "\n",
       "    .dataframe thead th {\n",
       "        text-align: right;\n",
       "    }\n",
       "</style>\n",
       "<table border=\"1\" class=\"dataframe\">\n",
       "  <thead>\n",
       "    <tr style=\"text-align: right;\">\n",
       "      <th></th>\n",
       "      <th>Department</th>\n",
       "      <th>Employee</th>\n",
       "      <th>Salary</th>\n",
       "      <th>Experience</th>\n",
       "      <th>Location</th>\n",
       "    </tr>\n",
       "  </thead>\n",
       "  <tbody>\n",
       "    <tr>\n",
       "      <th>101</th>\n",
       "      <td>HR</td>\n",
       "      <td>Alice</td>\n",
       "      <td>50000</td>\n",
       "      <td>3</td>\n",
       "      <td>New York</td>\n",
       "    </tr>\n",
       "    <tr>\n",
       "      <th>104</th>\n",
       "      <td>Finance</td>\n",
       "      <td>David</td>\n",
       "      <td>58000</td>\n",
       "      <td>6</td>\n",
       "      <td>London</td>\n",
       "    </tr>\n",
       "    <tr>\n",
       "      <th>107</th>\n",
       "      <td>Sales</td>\n",
       "      <td>Grace</td>\n",
       "      <td>65000</td>\n",
       "      <td>4</td>\n",
       "      <td>Berlin</td>\n",
       "    </tr>\n",
       "  </tbody>\n",
       "</table>\n",
       "</div>"
      ],
      "text/plain": [
       "    Department Employee  Salary  Experience  Location\n",
       "101         HR    Alice   50000           3  New York\n",
       "104    Finance    David   58000           6    London\n",
       "107      Sales    Grace   65000           4    Berlin"
      ]
     },
     "execution_count": 70,
     "metadata": {},
     "output_type": "execute_result"
    }
   ],
   "source": [
    "df.iloc[[0, 3, 6]]"
   ]
  },
  {
   "cell_type": "code",
   "execution_count": 71,
   "id": "8c024c0f-3a70-4c34-b467-3918b43f0e0c",
   "metadata": {},
   "outputs": [
    {
     "data": {
      "text/html": [
       "<div>\n",
       "<style scoped>\n",
       "    .dataframe tbody tr th:only-of-type {\n",
       "        vertical-align: middle;\n",
       "    }\n",
       "\n",
       "    .dataframe tbody tr th {\n",
       "        vertical-align: top;\n",
       "    }\n",
       "\n",
       "    .dataframe thead th {\n",
       "        text-align: right;\n",
       "    }\n",
       "</style>\n",
       "<table border=\"1\" class=\"dataframe\">\n",
       "  <thead>\n",
       "    <tr style=\"text-align: right;\">\n",
       "      <th></th>\n",
       "      <th>Department</th>\n",
       "      <th>Employee</th>\n",
       "      <th>Salary</th>\n",
       "      <th>Experience</th>\n",
       "      <th>Location</th>\n",
       "    </tr>\n",
       "  </thead>\n",
       "  <tbody>\n",
       "    <tr>\n",
       "      <th>101</th>\n",
       "      <td>HR</td>\n",
       "      <td>Alice</td>\n",
       "      <td>50000</td>\n",
       "      <td>3</td>\n",
       "      <td>New York</td>\n",
       "    </tr>\n",
       "    <tr>\n",
       "      <th>102</th>\n",
       "      <td>HR</td>\n",
       "      <td>Bob</td>\n",
       "      <td>52000</td>\n",
       "      <td>4</td>\n",
       "      <td>London</td>\n",
       "    </tr>\n",
       "    <tr>\n",
       "      <th>103</th>\n",
       "      <td>Finance</td>\n",
       "      <td>Charlie</td>\n",
       "      <td>60000</td>\n",
       "      <td>5</td>\n",
       "      <td>New York</td>\n",
       "    </tr>\n",
       "  </tbody>\n",
       "</table>\n",
       "</div>"
      ],
      "text/plain": [
       "    Department Employee  Salary  Experience  Location\n",
       "101         HR    Alice   50000           3  New York\n",
       "102         HR      Bob   52000           4    London\n",
       "103    Finance  Charlie   60000           5  New York"
      ]
     },
     "execution_count": 71,
     "metadata": {},
     "output_type": "execute_result"
    }
   ],
   "source": [
    "df.iloc[0:3]"
   ]
  },
  {
   "cell_type": "code",
   "execution_count": 72,
   "id": "53820a2a-59fe-4137-a460-18850aa573ce",
   "metadata": {},
   "outputs": [
    {
     "data": {
      "text/html": [
       "<div>\n",
       "<style scoped>\n",
       "    .dataframe tbody tr th:only-of-type {\n",
       "        vertical-align: middle;\n",
       "    }\n",
       "\n",
       "    .dataframe tbody tr th {\n",
       "        vertical-align: top;\n",
       "    }\n",
       "\n",
       "    .dataframe thead th {\n",
       "        text-align: right;\n",
       "    }\n",
       "</style>\n",
       "<table border=\"1\" class=\"dataframe\">\n",
       "  <thead>\n",
       "    <tr style=\"text-align: right;\">\n",
       "      <th></th>\n",
       "      <th>Department</th>\n",
       "      <th>Employee</th>\n",
       "    </tr>\n",
       "  </thead>\n",
       "  <tbody>\n",
       "    <tr>\n",
       "      <th>101</th>\n",
       "      <td>HR</td>\n",
       "      <td>Alice</td>\n",
       "    </tr>\n",
       "    <tr>\n",
       "      <th>103</th>\n",
       "      <td>Finance</td>\n",
       "      <td>Charlie</td>\n",
       "    </tr>\n",
       "  </tbody>\n",
       "</table>\n",
       "</div>"
      ],
      "text/plain": [
       "    Department Employee\n",
       "101         HR    Alice\n",
       "103    Finance  Charlie"
      ]
     },
     "execution_count": 72,
     "metadata": {},
     "output_type": "execute_result"
    }
   ],
   "source": [
    "df.iloc[[0, 2], 0:2]"
   ]
  },
  {
   "cell_type": "code",
   "execution_count": 73,
   "id": "be41e2ae-fa51-463d-958b-6d402eecea7c",
   "metadata": {},
   "outputs": [
    {
     "data": {
      "text/html": [
       "<div>\n",
       "<style scoped>\n",
       "    .dataframe tbody tr th:only-of-type {\n",
       "        vertical-align: middle;\n",
       "    }\n",
       "\n",
       "    .dataframe tbody tr th {\n",
       "        vertical-align: top;\n",
       "    }\n",
       "\n",
       "    .dataframe thead th {\n",
       "        text-align: right;\n",
       "    }\n",
       "</style>\n",
       "<table border=\"1\" class=\"dataframe\">\n",
       "  <thead>\n",
       "    <tr style=\"text-align: right;\">\n",
       "      <th></th>\n",
       "      <th>Employee</th>\n",
       "      <th>Salary</th>\n",
       "    </tr>\n",
       "  </thead>\n",
       "  <tbody>\n",
       "    <tr>\n",
       "      <th>104</th>\n",
       "      <td>David</td>\n",
       "      <td>58000</td>\n",
       "    </tr>\n",
       "    <tr>\n",
       "      <th>105</th>\n",
       "      <td>Eva</td>\n",
       "      <td>75000</td>\n",
       "    </tr>\n",
       "    <tr>\n",
       "      <th>106</th>\n",
       "      <td>Frank</td>\n",
       "      <td>77000</td>\n",
       "    </tr>\n",
       "  </tbody>\n",
       "</table>\n",
       "</div>"
      ],
      "text/plain": [
       "    Employee  Salary\n",
       "104    David   58000\n",
       "105      Eva   75000\n",
       "106    Frank   77000"
      ]
     },
     "execution_count": 73,
     "metadata": {},
     "output_type": "execute_result"
    }
   ],
   "source": [
    "df.iloc[(df[\"Experience\"] > 5).values, [1, 2]]"
   ]
  },
  {
   "cell_type": "code",
   "execution_count": null,
   "id": "fc000e59-788c-4d5e-890f-52f5deae7b61",
   "metadata": {},
   "outputs": [],
   "source": []
  },
  {
   "cell_type": "code",
   "execution_count": 74,
   "id": "65f45b5a-9342-4274-ba13-0b4e5e241b01",
   "metadata": {},
   "outputs": [
    {
     "data": {
      "text/plain": [
       "Department          HR\n",
       "Employee         Alice\n",
       "Salary           50000\n",
       "Experience           3\n",
       "Location      New York\n",
       "Name: 101, dtype: object"
      ]
     },
     "execution_count": 74,
     "metadata": {},
     "output_type": "execute_result"
    }
   ],
   "source": [
    "df.loc[101]"
   ]
  },
  {
   "cell_type": "code",
   "execution_count": 75,
   "id": "1f9859e4-1a2e-487c-987f-6abe2dea0c5e",
   "metadata": {},
   "outputs": [
    {
     "data": {
      "text/html": [
       "<div>\n",
       "<style scoped>\n",
       "    .dataframe tbody tr th:only-of-type {\n",
       "        vertical-align: middle;\n",
       "    }\n",
       "\n",
       "    .dataframe tbody tr th {\n",
       "        vertical-align: top;\n",
       "    }\n",
       "\n",
       "    .dataframe thead th {\n",
       "        text-align: right;\n",
       "    }\n",
       "</style>\n",
       "<table border=\"1\" class=\"dataframe\">\n",
       "  <thead>\n",
       "    <tr style=\"text-align: right;\">\n",
       "      <th></th>\n",
       "      <th>Department</th>\n",
       "      <th>Employee</th>\n",
       "      <th>Salary</th>\n",
       "      <th>Experience</th>\n",
       "      <th>Location</th>\n",
       "    </tr>\n",
       "  </thead>\n",
       "  <tbody>\n",
       "    <tr>\n",
       "      <th>101</th>\n",
       "      <td>HR</td>\n",
       "      <td>Alice</td>\n",
       "      <td>50000</td>\n",
       "      <td>3</td>\n",
       "      <td>New York</td>\n",
       "    </tr>\n",
       "    <tr>\n",
       "      <th>104</th>\n",
       "      <td>Finance</td>\n",
       "      <td>David</td>\n",
       "      <td>58000</td>\n",
       "      <td>6</td>\n",
       "      <td>London</td>\n",
       "    </tr>\n",
       "    <tr>\n",
       "      <th>107</th>\n",
       "      <td>Sales</td>\n",
       "      <td>Grace</td>\n",
       "      <td>65000</td>\n",
       "      <td>4</td>\n",
       "      <td>Berlin</td>\n",
       "    </tr>\n",
       "  </tbody>\n",
       "</table>\n",
       "</div>"
      ],
      "text/plain": [
       "    Department Employee  Salary  Experience  Location\n",
       "101         HR    Alice   50000           3  New York\n",
       "104    Finance    David   58000           6    London\n",
       "107      Sales    Grace   65000           4    Berlin"
      ]
     },
     "execution_count": 75,
     "metadata": {},
     "output_type": "execute_result"
    }
   ],
   "source": [
    "df.loc[[101, 104, 107]]"
   ]
  },
  {
   "cell_type": "code",
   "execution_count": 76,
   "id": "461f014f-c1c6-4049-9f5b-50f517128ba1",
   "metadata": {},
   "outputs": [
    {
     "data": {
      "text/html": [
       "<div>\n",
       "<style scoped>\n",
       "    .dataframe tbody tr th:only-of-type {\n",
       "        vertical-align: middle;\n",
       "    }\n",
       "\n",
       "    .dataframe tbody tr th {\n",
       "        vertical-align: top;\n",
       "    }\n",
       "\n",
       "    .dataframe thead th {\n",
       "        text-align: right;\n",
       "    }\n",
       "</style>\n",
       "<table border=\"1\" class=\"dataframe\">\n",
       "  <thead>\n",
       "    <tr style=\"text-align: right;\">\n",
       "      <th></th>\n",
       "      <th>Department</th>\n",
       "      <th>Employee</th>\n",
       "      <th>Salary</th>\n",
       "      <th>Experience</th>\n",
       "      <th>Location</th>\n",
       "    </tr>\n",
       "  </thead>\n",
       "  <tbody>\n",
       "    <tr>\n",
       "      <th>101</th>\n",
       "      <td>HR</td>\n",
       "      <td>Alice</td>\n",
       "      <td>50000</td>\n",
       "      <td>3</td>\n",
       "      <td>New York</td>\n",
       "    </tr>\n",
       "    <tr>\n",
       "      <th>102</th>\n",
       "      <td>HR</td>\n",
       "      <td>Bob</td>\n",
       "      <td>52000</td>\n",
       "      <td>4</td>\n",
       "      <td>London</td>\n",
       "    </tr>\n",
       "    <tr>\n",
       "      <th>103</th>\n",
       "      <td>Finance</td>\n",
       "      <td>Charlie</td>\n",
       "      <td>60000</td>\n",
       "      <td>5</td>\n",
       "      <td>New York</td>\n",
       "    </tr>\n",
       "    <tr>\n",
       "      <th>104</th>\n",
       "      <td>Finance</td>\n",
       "      <td>David</td>\n",
       "      <td>58000</td>\n",
       "      <td>6</td>\n",
       "      <td>London</td>\n",
       "    </tr>\n",
       "  </tbody>\n",
       "</table>\n",
       "</div>"
      ],
      "text/plain": [
       "    Department Employee  Salary  Experience  Location\n",
       "101         HR    Alice   50000           3  New York\n",
       "102         HR      Bob   52000           4    London\n",
       "103    Finance  Charlie   60000           5  New York\n",
       "104    Finance    David   58000           6    London"
      ]
     },
     "execution_count": 76,
     "metadata": {},
     "output_type": "execute_result"
    }
   ],
   "source": [
    "df.loc[101:104]"
   ]
  },
  {
   "cell_type": "code",
   "execution_count": 77,
   "id": "d5b1c9a7-a1f8-4b2e-8dab-95cf42b6b618",
   "metadata": {},
   "outputs": [
    {
     "data": {
      "text/html": [
       "<div>\n",
       "<style scoped>\n",
       "    .dataframe tbody tr th:only-of-type {\n",
       "        vertical-align: middle;\n",
       "    }\n",
       "\n",
       "    .dataframe tbody tr th {\n",
       "        vertical-align: top;\n",
       "    }\n",
       "\n",
       "    .dataframe thead th {\n",
       "        text-align: right;\n",
       "    }\n",
       "</style>\n",
       "<table border=\"1\" class=\"dataframe\">\n",
       "  <thead>\n",
       "    <tr style=\"text-align: right;\">\n",
       "      <th></th>\n",
       "      <th>Employee</th>\n",
       "      <th>Salary</th>\n",
       "    </tr>\n",
       "  </thead>\n",
       "  <tbody>\n",
       "    <tr>\n",
       "      <th>101</th>\n",
       "      <td>Alice</td>\n",
       "      <td>50000</td>\n",
       "    </tr>\n",
       "    <tr>\n",
       "      <th>103</th>\n",
       "      <td>Charlie</td>\n",
       "      <td>60000</td>\n",
       "    </tr>\n",
       "  </tbody>\n",
       "</table>\n",
       "</div>"
      ],
      "text/plain": [
       "    Employee  Salary\n",
       "101    Alice   50000\n",
       "103  Charlie   60000"
      ]
     },
     "execution_count": 77,
     "metadata": {},
     "output_type": "execute_result"
    }
   ],
   "source": [
    "df.loc[[101, 103], [\"Employee\", \"Salary\"]]"
   ]
  },
  {
   "cell_type": "code",
   "execution_count": 78,
   "id": "5e90b51e-42e7-483b-ae63-dec62ab538c4",
   "metadata": {},
   "outputs": [
    {
     "data": {
      "text/html": [
       "<div>\n",
       "<style scoped>\n",
       "    .dataframe tbody tr th:only-of-type {\n",
       "        vertical-align: middle;\n",
       "    }\n",
       "\n",
       "    .dataframe tbody tr th {\n",
       "        vertical-align: top;\n",
       "    }\n",
       "\n",
       "    .dataframe thead th {\n",
       "        text-align: right;\n",
       "    }\n",
       "</style>\n",
       "<table border=\"1\" class=\"dataframe\">\n",
       "  <thead>\n",
       "    <tr style=\"text-align: right;\">\n",
       "      <th></th>\n",
       "      <th>Employee</th>\n",
       "      <th>Department</th>\n",
       "      <th>Salary</th>\n",
       "    </tr>\n",
       "  </thead>\n",
       "  <tbody>\n",
       "    <tr>\n",
       "      <th>105</th>\n",
       "      <td>Eva</td>\n",
       "      <td>IT</td>\n",
       "      <td>75000</td>\n",
       "    </tr>\n",
       "    <tr>\n",
       "      <th>106</th>\n",
       "      <td>Frank</td>\n",
       "      <td>IT</td>\n",
       "      <td>77000</td>\n",
       "    </tr>\n",
       "    <tr>\n",
       "      <th>107</th>\n",
       "      <td>Grace</td>\n",
       "      <td>Sales</td>\n",
       "      <td>65000</td>\n",
       "    </tr>\n",
       "    <tr>\n",
       "      <th>108</th>\n",
       "      <td>Hannah</td>\n",
       "      <td>Sales</td>\n",
       "      <td>68000</td>\n",
       "    </tr>\n",
       "  </tbody>\n",
       "</table>\n",
       "</div>"
      ],
      "text/plain": [
       "    Employee Department  Salary\n",
       "105      Eva         IT   75000\n",
       "106    Frank         IT   77000\n",
       "107    Grace      Sales   65000\n",
       "108   Hannah      Sales   68000"
      ]
     },
     "execution_count": 78,
     "metadata": {},
     "output_type": "execute_result"
    }
   ],
   "source": [
    "df.loc[df[\"Salary\"] > 60000, [\"Employee\", \"Department\", \"Salary\"]]"
   ]
  },
  {
   "cell_type": "code",
   "execution_count": null,
   "id": "2dceee3c-f1c8-4b02-bf26-409a4bded94c",
   "metadata": {},
   "outputs": [],
   "source": []
  }
 ],
 "metadata": {
  "kernelspec": {
   "display_name": "Python 3 (ipykernel)",
   "language": "python",
   "name": "python3"
  },
  "language_info": {
   "codemirror_mode": {
    "name": "ipython",
    "version": 3
   },
   "file_extension": ".py",
   "mimetype": "text/x-python",
   "name": "python",
   "nbconvert_exporter": "python",
   "pygments_lexer": "ipython3",
   "version": "3.13.6"
  }
 },
 "nbformat": 4,
 "nbformat_minor": 5
}
