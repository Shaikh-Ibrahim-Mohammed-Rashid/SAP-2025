{
 "cells": [
  {
   "cell_type": "markdown",
   "id": "d82360ae",
   "metadata": {
    "id": "d82360ae"
   },
   "source": [
    "# EDUNET FOUNDATION-Class Exercise Notebook"
   ]
  },
  {
   "cell_type": "markdown",
   "id": "9c5c05d0",
   "metadata": {
    "id": "9c5c05d0"
   },
   "source": [
    "## LAB 3 - Canny Edge detection on a given image"
   ]
  },
  {
   "cell_type": "markdown",
   "id": "ef8662ad",
   "metadata": {
    "id": "ef8662ad"
   },
   "source": [
    "### Load OpenCV library"
   ]
  },
  {
   "cell_type": "code",
   "execution_count": 3,
   "id": "c92a710a-160e-4349-babc-3abfdd016c1e",
   "metadata": {},
   "outputs": [
    {
     "name": "stdout",
     "output_type": "stream",
     "text": [
      "Collecting opencv-python\n",
      "  Downloading opencv_python-4.12.0.88-cp37-abi3-win_amd64.whl.metadata (19 kB)\n",
      "Collecting numpy<2.3.0,>=2 (from opencv-python)\n",
      "  Downloading numpy-2.2.6-cp313-cp313-win_amd64.whl.metadata (60 kB)\n",
      "Downloading opencv_python-4.12.0.88-cp37-abi3-win_amd64.whl (39.0 MB)\n",
      "   ---------------------------------------- 0.0/39.0 MB ? eta -:--:--\n",
      "   -- ------------------------------------- 2.1/39.0 MB 10.8 MB/s eta 0:00:04\n",
      "   ---- ----------------------------------- 4.2/39.0 MB 10.8 MB/s eta 0:00:04\n",
      "   ----- ---------------------------------- 5.8/39.0 MB 9.4 MB/s eta 0:00:04\n",
      "   ------ --------------------------------- 6.8/39.0 MB 8.7 MB/s eta 0:00:04\n",
      "   ---------- ----------------------------- 10.0/39.0 MB 9.6 MB/s eta 0:00:04\n",
      "   --------------- ------------------------ 14.9/39.0 MB 12.0 MB/s eta 0:00:03\n",
      "   -------------------- ------------------- 19.7/39.0 MB 13.6 MB/s eta 0:00:02\n",
      "   -------------------------- ------------- 25.4/39.0 MB 15.4 MB/s eta 0:00:01\n",
      "   -------------------------------- ------- 31.5/39.0 MB 17.0 MB/s eta 0:00:01\n",
      "   ------------------------------------ --- 35.9/39.0 MB 17.7 MB/s eta 0:00:01\n",
      "   ---------------------------------------- 39.0/39.0 MB 17.7 MB/s  0:00:02\n",
      "Downloading numpy-2.2.6-cp313-cp313-win_amd64.whl (12.6 MB)\n",
      "   ---------------------------------------- 0.0/12.6 MB ? eta -:--:--\n",
      "   -------------- ------------------------- 4.5/12.6 MB 20.9 MB/s eta 0:00:01\n",
      "   --------------------------- ------------ 8.7/12.6 MB 20.8 MB/s eta 0:00:01\n",
      "   ---------------------------------------- 12.6/12.6 MB 21.7 MB/s  0:00:00\n",
      "Installing collected packages: numpy, opencv-python\n",
      "\n",
      "   ---------------------------------------- 0/2 [numpy]\n",
      "   ---------------------------------------- 0/2 [numpy]\n",
      "   ---------------------------------------- 0/2 [numpy]\n",
      "   ---------------------------------------- 0/2 [numpy]\n",
      "   ---------------------------------------- 0/2 [numpy]\n",
      "   ---------------------------------------- 0/2 [numpy]\n",
      "   ---------------------------------------- 0/2 [numpy]\n",
      "   ---------------------------------------- 0/2 [numpy]\n",
      "   ---------------------------------------- 0/2 [numpy]\n",
      "   ---------------------------------------- 0/2 [numpy]\n",
      "   ---------------------------------------- 0/2 [numpy]\n",
      "   ---------------------------------------- 0/2 [numpy]\n",
      "   ---------------------------------------- 0/2 [numpy]\n",
      "   ---------------------------------------- 0/2 [numpy]\n",
      "   ---------------------------------------- 0/2 [numpy]\n",
      "   ---------------------------------------- 0/2 [numpy]\n",
      "   ---------------------------------------- 0/2 [numpy]\n",
      "   ---------------------------------------- 0/2 [numpy]\n",
      "   ---------------------------------------- 0/2 [numpy]\n",
      "   ---------------------------------------- 0/2 [numpy]\n",
      "   ---------------------------------------- 0/2 [numpy]\n",
      "   ---------------------------------------- 0/2 [numpy]\n",
      "   ---------------------------------------- 0/2 [numpy]\n",
      "   ---------------------------------------- 0/2 [numpy]\n",
      "   -------------------- ------------------- 1/2 [opencv-python]\n",
      "   -------------------- ------------------- 1/2 [opencv-python]\n",
      "   -------------------- ------------------- 1/2 [opencv-python]\n",
      "   -------------------- ------------------- 1/2 [opencv-python]\n",
      "   ---------------------------------------- 2/2 [opencv-python]\n",
      "\n",
      "Successfully installed numpy-2.2.6 opencv-python-4.12.0.88\n",
      "Note: you may need to restart the kernel to use updated packages.\n"
     ]
    }
   ],
   "source": [
    "pip install opencv-python"
   ]
  },
  {
   "cell_type": "code",
   "execution_count": 6,
   "id": "9681a376",
   "metadata": {
    "id": "9681a376"
   },
   "outputs": [],
   "source": [
    "import cv2\n"
   ]
  },
  {
   "cell_type": "markdown",
   "id": "06cf515a",
   "metadata": {
    "id": "06cf515a"
   },
   "source": [
    "### Read the image"
   ]
  },
  {
   "cell_type": "code",
   "execution_count": 7,
   "id": "4f350465-8aae-47ea-af5f-7ee8c3e9cd17",
   "metadata": {},
   "outputs": [
    {
     "data": {
      "text/plain": [
       "array([[[196, 193, 185],\n",
       "        [195, 192, 184],\n",
       "        [195, 192, 184],\n",
       "        ...,\n",
       "        [233, 231, 221],\n",
       "        [233, 231, 221],\n",
       "        [233, 231, 221]],\n",
       "\n",
       "       [[194, 191, 183],\n",
       "        [194, 191, 183],\n",
       "        [194, 191, 183],\n",
       "        ...,\n",
       "        [232, 230, 220],\n",
       "        [231, 229, 219],\n",
       "        [231, 229, 219]],\n",
       "\n",
       "       [[194, 191, 183],\n",
       "        [193, 190, 182],\n",
       "        [193, 189, 184],\n",
       "        ...,\n",
       "        [232, 230, 220],\n",
       "        [231, 229, 219],\n",
       "        [230, 228, 218]],\n",
       "\n",
       "       ...,\n",
       "\n",
       "       [[221, 224, 215],\n",
       "        [219, 222, 213],\n",
       "        [219, 222, 213],\n",
       "        ...,\n",
       "        [ 64,  88, 146],\n",
       "        [ 64,  88, 146],\n",
       "        [ 64,  88, 146]],\n",
       "\n",
       "       [[219, 224, 215],\n",
       "        [217, 222, 213],\n",
       "        [217, 222, 213],\n",
       "        ...,\n",
       "        [ 64,  88, 146],\n",
       "        [ 63,  87, 145],\n",
       "        [ 64,  88, 146]],\n",
       "\n",
       "       [[219, 224, 215],\n",
       "        [217, 222, 213],\n",
       "        [217, 222, 213],\n",
       "        ...,\n",
       "        [ 64,  88, 146],\n",
       "        [ 63,  87, 145],\n",
       "        [ 63,  87, 145]]], shape=(675, 1200, 3), dtype=uint8)"
      ]
     },
     "execution_count": 7,
     "metadata": {},
     "output_type": "execute_result"
    }
   ],
   "source": [
    "img = cv2.imread(r\"C:\\Users\\mgmce\\Downloads\\di.jpg\")\n",
    "img"
   ]
  },
  {
   "cell_type": "code",
   "execution_count": 5,
   "id": "1c3bb6ee",
   "metadata": {
    "id": "1c3bb6ee"
   },
   "outputs": [
    {
     "data": {
      "text/plain": [
       "array([[[ 63,  81,  80],\n",
       "        [ 59,  77,  76],\n",
       "        [ 53,  71,  70],\n",
       "        ...,\n",
       "        [198, 192, 197],\n",
       "        [197, 191, 196],\n",
       "        [196, 190, 195]],\n",
       "\n",
       "       [[ 56,  74,  73],\n",
       "        [ 53,  71,  70],\n",
       "        [ 50,  68,  67],\n",
       "        ...,\n",
       "        [198, 192, 197],\n",
       "        [197, 191, 196],\n",
       "        [196, 190, 195]],\n",
       "\n",
       "       [[ 47,  66,  63],\n",
       "        [ 46,  65,  62],\n",
       "        [ 46,  65,  62],\n",
       "        ...,\n",
       "        [198, 192, 197],\n",
       "        [197, 191, 196],\n",
       "        [196, 190, 195]],\n",
       "\n",
       "       ...,\n",
       "\n",
       "       [[191, 189, 201],\n",
       "        [190, 188, 200],\n",
       "        [187, 185, 197],\n",
       "        ...,\n",
       "        [197, 196, 200],\n",
       "        [193, 192, 196],\n",
       "        [190, 189, 193]],\n",
       "\n",
       "       [[187, 185, 197],\n",
       "        [187, 185, 197],\n",
       "        [188, 186, 198],\n",
       "        ...,\n",
       "        [196, 195, 199],\n",
       "        [193, 192, 196],\n",
       "        [190, 189, 193]],\n",
       "\n",
       "       [[183, 181, 193],\n",
       "        [184, 182, 194],\n",
       "        [189, 187, 199],\n",
       "        ...,\n",
       "        [196, 195, 199],\n",
       "        [192, 191, 195],\n",
       "        [189, 188, 192]]], shape=(1024, 1024, 3), dtype=uint8)"
      ]
     },
     "execution_count": 5,
     "metadata": {},
     "output_type": "execute_result"
    }
   ],
   "source": [
    "img = cv2.imread(r\"C:\\Users\\mgmce\\Downloads\\real.jpg\")\n",
    "img"
   ]
  },
  {
   "cell_type": "markdown",
   "id": "f527b60b",
   "metadata": {
    "id": "f527b60b"
   },
   "source": [
    "### Setting parameter values\n"
   ]
  },
  {
   "cell_type": "code",
   "execution_count": 8,
   "id": "af6cd09e",
   "metadata": {
    "id": "af6cd09e"
   },
   "outputs": [],
   "source": [
    "\n",
    "t_lower = 50  # Lower Threshold\n",
    "t_upper = 150  # Upper threshold"
   ]
  },
  {
   "cell_type": "markdown",
   "id": "9bbd6603",
   "metadata": {
    "id": "9bbd6603"
   },
   "source": [
    "### Applying the Canny Edge filter\n",
    "\n"
   ]
  },
  {
   "cell_type": "code",
   "execution_count": null,
   "id": "3bf6a13b",
   "metadata": {
    "id": "3bf6a13b"
   },
   "outputs": [],
   "source": [
    "\n"
   ]
  },
  {
   "cell_type": "markdown",
   "id": "82599af4",
   "metadata": {
    "id": "82599af4"
   },
   "source": [
    "### Show original and edges image"
   ]
  },
  {
   "cell_type": "code",
   "execution_count": 9,
   "id": "16246324",
   "metadata": {
    "id": "16246324"
   },
   "outputs": [],
   "source": [
    "edge = cv2.Canny(img, t_lower, t_upper)\n",
    "cv2.imshow('original', img)\n",
    "cv2.imshow('edge', edge)\n",
    "cv2.waitKey(0)\n",
    "cv2.destroyAllWindows()"
   ]
  },
  {
   "cell_type": "markdown",
   "id": "a0d3c203",
   "metadata": {
    "id": "a0d3c203"
   },
   "source": [
    "### Release the Window object"
   ]
  },
  {
   "cell_type": "code",
   "execution_count": null,
   "id": "b331534c",
   "metadata": {
    "id": "b331534c"
   },
   "outputs": [],
   "source": []
  },
  {
   "cell_type": "code",
   "execution_count": null,
   "id": "d52f50f5",
   "metadata": {
    "id": "d52f50f5"
   },
   "outputs": [],
   "source": []
  },
  {
   "cell_type": "code",
   "execution_count": null,
   "id": "0c9083d7-c824-4a19-b579-feaa9d0f8297",
   "metadata": {
    "id": "0c9083d7-c824-4a19-b579-feaa9d0f8297"
   },
   "outputs": [],
   "source": []
  },
  {
   "cell_type": "code",
   "execution_count": null,
   "id": "582e4a28-7b67-475d-89ed-f3eadb884a59",
   "metadata": {
    "id": "582e4a28-7b67-475d-89ed-f3eadb884a59"
   },
   "outputs": [],
   "source": []
  }
 ],
 "metadata": {
  "colab": {
   "provenance": []
  },
  "kernelspec": {
   "display_name": "Python 3 (ipykernel)",
   "language": "python",
   "name": "python3"
  },
  "language_info": {
   "codemirror_mode": {
    "name": "ipython",
    "version": 3
   },
   "file_extension": ".py",
   "mimetype": "text/x-python",
   "name": "python",
   "nbconvert_exporter": "python",
   "pygments_lexer": "ipython3",
   "version": "3.13.7"
  }
 },
 "nbformat": 4,
 "nbformat_minor": 5
}
