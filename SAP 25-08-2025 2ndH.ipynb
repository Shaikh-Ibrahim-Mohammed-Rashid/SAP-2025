{
 "cells": [
  {
   "cell_type": "code",
   "execution_count": 2,
   "id": "74600134-59bf-45c1-9f0b-c369450692f6",
   "metadata": {},
   "outputs": [
    {
     "name": "stdout",
     "output_type": "stream",
     "text": [
      "Shaikh Ibrahim Mohammed Rashid\n"
     ]
    }
   ],
   "source": [
    "print(\"Shaikh Ibrahim Mohammed Rashid\")"
   ]
  },
  {
   "cell_type": "code",
   "execution_count": 5,
   "id": "0b503aee-c99f-49de-829b-b0553df18ee4",
   "metadata": {},
   "outputs": [
    {
     "name": "stdout",
     "output_type": "stream",
     "text": [
      "Requirement already satisfied: tensorflow in c:\\users\\admin\\appdata\\local\\programs\\python\\python313\\lib\\site-packages (2.20.0)\n",
      "Requirement already satisfied: absl-py>=1.0.0 in c:\\users\\admin\\appdata\\local\\programs\\python\\python313\\lib\\site-packages (from tensorflow) (2.3.1)\n",
      "Requirement already satisfied: astunparse>=1.6.0 in c:\\users\\admin\\appdata\\local\\programs\\python\\python313\\lib\\site-packages (from tensorflow) (1.6.3)\n",
      "Requirement already satisfied: flatbuffers>=24.3.25 in c:\\users\\admin\\appdata\\local\\programs\\python\\python313\\lib\\site-packages (from tensorflow) (25.2.10)\n",
      "Requirement already satisfied: gast!=0.5.0,!=0.5.1,!=0.5.2,>=0.2.1 in c:\\users\\admin\\appdata\\local\\programs\\python\\python313\\lib\\site-packages (from tensorflow) (0.6.0)\n",
      "Requirement already satisfied: google_pasta>=0.1.1 in c:\\users\\admin\\appdata\\local\\programs\\python\\python313\\lib\\site-packages (from tensorflow) (0.2.0)\n",
      "Requirement already satisfied: libclang>=13.0.0 in c:\\users\\admin\\appdata\\local\\programs\\python\\python313\\lib\\site-packages (from tensorflow) (18.1.1)\n",
      "Requirement already satisfied: opt_einsum>=2.3.2 in c:\\users\\admin\\appdata\\local\\programs\\python\\python313\\lib\\site-packages (from tensorflow) (3.4.0)\n",
      "Requirement already satisfied: packaging in c:\\users\\admin\\appdata\\local\\programs\\python\\python313\\lib\\site-packages (from tensorflow) (25.0)\n",
      "Requirement already satisfied: protobuf>=5.28.0 in c:\\users\\admin\\appdata\\local\\programs\\python\\python313\\lib\\site-packages (from tensorflow) (6.32.0)\n",
      "Requirement already satisfied: requests<3,>=2.21.0 in c:\\users\\admin\\appdata\\local\\programs\\python\\python313\\lib\\site-packages (from tensorflow) (2.32.4)\n",
      "Requirement already satisfied: setuptools in c:\\users\\admin\\appdata\\local\\programs\\python\\python313\\lib\\site-packages (from tensorflow) (80.9.0)\n",
      "Requirement already satisfied: six>=1.12.0 in c:\\users\\admin\\appdata\\local\\programs\\python\\python313\\lib\\site-packages (from tensorflow) (1.17.0)\n",
      "Requirement already satisfied: termcolor>=1.1.0 in c:\\users\\admin\\appdata\\local\\programs\\python\\python313\\lib\\site-packages (from tensorflow) (3.1.0)\n",
      "Requirement already satisfied: typing_extensions>=3.6.6 in c:\\users\\admin\\appdata\\local\\programs\\python\\python313\\lib\\site-packages (from tensorflow) (4.14.1)\n",
      "Requirement already satisfied: wrapt>=1.11.0 in c:\\users\\admin\\appdata\\local\\programs\\python\\python313\\lib\\site-packages (from tensorflow) (1.17.3)\n",
      "Requirement already satisfied: grpcio<2.0,>=1.24.3 in c:\\users\\admin\\appdata\\local\\programs\\python\\python313\\lib\\site-packages (from tensorflow) (1.74.0)\n",
      "Requirement already satisfied: tensorboard~=2.20.0 in c:\\users\\admin\\appdata\\local\\programs\\python\\python313\\lib\\site-packages (from tensorflow) (2.20.0)\n",
      "Requirement already satisfied: keras>=3.10.0 in c:\\users\\admin\\appdata\\local\\programs\\python\\python313\\lib\\site-packages (from tensorflow) (3.11.3)\n",
      "Requirement already satisfied: numpy>=1.26.0 in c:\\users\\admin\\appdata\\local\\programs\\python\\python313\\lib\\site-packages (from tensorflow) (2.3.1)\n",
      "Requirement already satisfied: h5py>=3.11.0 in c:\\users\\admin\\appdata\\local\\programs\\python\\python313\\lib\\site-packages (from tensorflow) (3.14.0)\n",
      "Requirement already satisfied: ml_dtypes<1.0.0,>=0.5.1 in c:\\users\\admin\\appdata\\local\\programs\\python\\python313\\lib\\site-packages (from tensorflow) (0.5.3)\n",
      "Requirement already satisfied: charset_normalizer<4,>=2 in c:\\users\\admin\\appdata\\local\\programs\\python\\python313\\lib\\site-packages (from requests<3,>=2.21.0->tensorflow) (3.4.3)\n",
      "Requirement already satisfied: idna<4,>=2.5 in c:\\users\\admin\\appdata\\local\\programs\\python\\python313\\lib\\site-packages (from requests<3,>=2.21.0->tensorflow) (3.10)\n",
      "Requirement already satisfied: urllib3<3,>=1.21.1 in c:\\users\\admin\\appdata\\local\\programs\\python\\python313\\lib\\site-packages (from requests<3,>=2.21.0->tensorflow) (2.5.0)\n",
      "Requirement already satisfied: certifi>=2017.4.17 in c:\\users\\admin\\appdata\\local\\programs\\python\\python313\\lib\\site-packages (from requests<3,>=2.21.0->tensorflow) (2025.8.3)\n",
      "Requirement already satisfied: markdown>=2.6.8 in c:\\users\\admin\\appdata\\local\\programs\\python\\python313\\lib\\site-packages (from tensorboard~=2.20.0->tensorflow) (3.8.2)\n",
      "Requirement already satisfied: pillow in c:\\users\\admin\\appdata\\local\\programs\\python\\python313\\lib\\site-packages (from tensorboard~=2.20.0->tensorflow) (11.3.0)\n",
      "Requirement already satisfied: tensorboard-data-server<0.8.0,>=0.7.0 in c:\\users\\admin\\appdata\\local\\programs\\python\\python313\\lib\\site-packages (from tensorboard~=2.20.0->tensorflow) (0.7.2)\n",
      "Requirement already satisfied: werkzeug>=1.0.1 in c:\\users\\admin\\appdata\\local\\programs\\python\\python313\\lib\\site-packages (from tensorboard~=2.20.0->tensorflow) (3.1.3)\n",
      "Requirement already satisfied: wheel<1.0,>=0.23.0 in c:\\users\\admin\\appdata\\local\\programs\\python\\python313\\lib\\site-packages (from astunparse>=1.6.0->tensorflow) (0.45.1)\n",
      "Requirement already satisfied: rich in c:\\users\\admin\\appdata\\local\\programs\\python\\python313\\lib\\site-packages (from keras>=3.10.0->tensorflow) (14.1.0)\n",
      "Requirement already satisfied: namex in c:\\users\\admin\\appdata\\local\\programs\\python\\python313\\lib\\site-packages (from keras>=3.10.0->tensorflow) (0.1.0)\n",
      "Requirement already satisfied: optree in c:\\users\\admin\\appdata\\local\\programs\\python\\python313\\lib\\site-packages (from keras>=3.10.0->tensorflow) (0.17.0)\n",
      "Requirement already satisfied: MarkupSafe>=2.1.1 in c:\\users\\admin\\appdata\\local\\programs\\python\\python313\\lib\\site-packages (from werkzeug>=1.0.1->tensorboard~=2.20.0->tensorflow) (3.0.2)\n",
      "Requirement already satisfied: markdown-it-py>=2.2.0 in c:\\users\\admin\\appdata\\local\\programs\\python\\python313\\lib\\site-packages (from rich->keras>=3.10.0->tensorflow) (4.0.0)\n",
      "Requirement already satisfied: pygments<3.0.0,>=2.13.0 in c:\\users\\admin\\appdata\\local\\programs\\python\\python313\\lib\\site-packages (from rich->keras>=3.10.0->tensorflow) (2.19.2)\n",
      "Requirement already satisfied: mdurl~=0.1 in c:\\users\\admin\\appdata\\local\\programs\\python\\python313\\lib\\site-packages (from markdown-it-py>=2.2.0->rich->keras>=3.10.0->tensorflow) (0.1.2)\n",
      "Note: you may need to restart the kernel to use updated packages.\n"
     ]
    },
    {
     "name": "stderr",
     "output_type": "stream",
     "text": [
      "\n",
      "[notice] A new release of pip is available: 25.1.1 -> 25.2\n",
      "[notice] To update, run: python.exe -m pip install --upgrade pip\n"
     ]
    }
   ],
   "source": [
    "pip install tensorflow\n"
   ]
  },
  {
   "cell_type": "code",
   "execution_count": 7,
   "id": "925fcc89-fdfc-4ce3-b79e-c1557b860857",
   "metadata": {},
   "outputs": [],
   "source": [
    "import tensorflow as tf\n",
    "from tensorflow.keras.models import Sequential\n",
    "from tensorflow.keras.layers import Dense, Dropout\n",
    "from tensorflow.keras.optimizers import Adam, SGD,RMSprop\n",
    "from tensorflow.keras.initializers import HeNormal,GlorotUniform"
   ]
  },
  {
   "cell_type": "code",
   "execution_count": 11,
   "id": "35b5b5aa-76ae-45dc-9594-c3235c36c075",
   "metadata": {},
   "outputs": [
    {
     "name": "stdout",
     "output_type": "stream",
     "text": [
      "Collecting scikit-learn\n",
      "  Downloading scikit_learn-1.7.1-cp313-cp313-win_amd64.whl.metadata (11 kB)\n",
      "Requirement already satisfied: numpy>=1.22.0 in c:\\users\\admin\\appdata\\local\\programs\\python\\python313\\lib\\site-packages (from scikit-learn) (2.3.1)\n",
      "Collecting scipy>=1.8.0 (from scikit-learn)\n",
      "  Downloading scipy-1.16.1-cp313-cp313-win_amd64.whl.metadata (60 kB)\n",
      "Collecting joblib>=1.2.0 (from scikit-learn)\n",
      "  Downloading joblib-1.5.1-py3-none-any.whl.metadata (5.6 kB)\n",
      "Collecting threadpoolctl>=3.1.0 (from scikit-learn)\n",
      "  Downloading threadpoolctl-3.6.0-py3-none-any.whl.metadata (13 kB)\n",
      "Downloading scikit_learn-1.7.1-cp313-cp313-win_amd64.whl (8.7 MB)\n",
      "   ---------------------------------------- 0.0/8.7 MB ? eta -:--:--\n",
      "   -- ------------------------------------- 0.5/8.7 MB 3.2 MB/s eta 0:00:03\n",
      "   ---- ----------------------------------- 1.0/8.7 MB 3.0 MB/s eta 0:00:03\n",
      "   ------- -------------------------------- 1.6/8.7 MB 2.6 MB/s eta 0:00:03\n",
      "   --------- ------------------------------ 2.1/8.7 MB 2.5 MB/s eta 0:00:03\n",
      "   ------------ --------------------------- 2.6/8.7 MB 2.5 MB/s eta 0:00:03\n",
      "   -------------- ------------------------- 3.1/8.7 MB 2.5 MB/s eta 0:00:03\n",
      "   --------------- ------------------------ 3.4/8.7 MB 2.4 MB/s eta 0:00:03\n",
      "   ------------------ --------------------- 3.9/8.7 MB 2.4 MB/s eta 0:00:02\n",
      "   -------------------- ------------------- 4.5/8.7 MB 2.3 MB/s eta 0:00:02\n",
      "   --------------------- ------------------ 4.7/8.7 MB 2.3 MB/s eta 0:00:02\n",
      "   ---------------------- ----------------- 5.0/8.7 MB 2.2 MB/s eta 0:00:02\n",
      "   ------------------------ --------------- 5.2/8.7 MB 2.2 MB/s eta 0:00:02\n",
      "   -------------------------- ------------- 5.8/8.7 MB 2.1 MB/s eta 0:00:02\n",
      "   --------------------------- ------------ 6.0/8.7 MB 2.1 MB/s eta 0:00:02\n",
      "   ---------------------------- ----------- 6.3/8.7 MB 2.0 MB/s eta 0:00:02\n",
      "   ------------------------------- -------- 6.8/8.7 MB 2.0 MB/s eta 0:00:01\n",
      "   -------------------------------- ------- 7.1/8.7 MB 2.0 MB/s eta 0:00:01\n",
      "   --------------------------------- ------ 7.3/8.7 MB 2.0 MB/s eta 0:00:01\n",
      "   ---------------------------------- ----- 7.6/8.7 MB 2.0 MB/s eta 0:00:01\n",
      "   ------------------------------------ --- 7.9/8.7 MB 1.9 MB/s eta 0:00:01\n",
      "   -------------------------------------- - 8.4/8.7 MB 1.9 MB/s eta 0:00:01\n",
      "   ---------------------------------------- 8.7/8.7 MB 1.9 MB/s eta 0:00:00\n",
      "Downloading joblib-1.5.1-py3-none-any.whl (307 kB)\n",
      "Downloading scipy-1.16.1-cp313-cp313-win_amd64.whl (38.5 MB)\n",
      "   ---------------------------------------- 0.0/38.5 MB ? eta -:--:--\n",
      "   ---------------------------------------- 0.3/38.5 MB ? eta -:--:--\n",
      "    --------------------------------------- 0.8/38.5 MB 2.6 MB/s eta 0:00:15\n",
      "   - -------------------------------------- 1.3/38.5 MB 2.4 MB/s eta 0:00:16\n",
      "   - -------------------------------------- 1.8/38.5 MB 2.3 MB/s eta 0:00:17\n",
      "   -- ------------------------------------- 2.1/38.5 MB 2.2 MB/s eta 0:00:17\n",
      "   -- ------------------------------------- 2.4/38.5 MB 2.1 MB/s eta 0:00:18\n",
      "   -- ------------------------------------- 2.9/38.5 MB 2.0 MB/s eta 0:00:18\n",
      "   --- ------------------------------------ 3.4/38.5 MB 2.1 MB/s eta 0:00:18\n",
      "   --- ------------------------------------ 3.7/38.5 MB 2.1 MB/s eta 0:00:17\n",
      "   ---- ----------------------------------- 4.2/38.5 MB 2.1 MB/s eta 0:00:17\n",
      "   ---- ----------------------------------- 4.7/38.5 MB 2.1 MB/s eta 0:00:17\n",
      "   ----- ---------------------------------- 5.0/38.5 MB 2.0 MB/s eta 0:00:17\n",
      "   ----- ---------------------------------- 5.2/38.5 MB 2.0 MB/s eta 0:00:17\n",
      "   ----- ---------------------------------- 5.8/38.5 MB 2.0 MB/s eta 0:00:17\n",
      "   ------ --------------------------------- 6.0/38.5 MB 2.0 MB/s eta 0:00:17\n",
      "   ------ --------------------------------- 6.6/38.5 MB 2.0 MB/s eta 0:00:16\n",
      "   ------- -------------------------------- 7.1/38.5 MB 2.0 MB/s eta 0:00:16\n",
      "   ------- -------------------------------- 7.6/38.5 MB 2.1 MB/s eta 0:00:15\n",
      "   -------- ------------------------------- 8.1/38.5 MB 2.1 MB/s eta 0:00:15\n",
      "   -------- ------------------------------- 8.7/38.5 MB 2.1 MB/s eta 0:00:15\n",
      "   --------- ------------------------------ 9.2/38.5 MB 2.1 MB/s eta 0:00:14\n",
      "   ---------- ----------------------------- 10.0/38.5 MB 2.2 MB/s eta 0:00:13\n",
      "   ---------- ----------------------------- 10.5/38.5 MB 2.2 MB/s eta 0:00:13\n",
      "   ----------- ---------------------------- 11.0/38.5 MB 2.2 MB/s eta 0:00:13\n",
      "   ----------- ---------------------------- 11.5/38.5 MB 2.3 MB/s eta 0:00:12\n",
      "   ------------ --------------------------- 12.3/38.5 MB 2.3 MB/s eta 0:00:12\n",
      "   ------------- -------------------------- 12.8/38.5 MB 2.3 MB/s eta 0:00:12\n",
      "   ------------- -------------------------- 13.4/38.5 MB 2.3 MB/s eta 0:00:11\n",
      "   -------------- ------------------------- 13.9/38.5 MB 2.4 MB/s eta 0:00:11\n",
      "   --------------- ------------------------ 14.7/38.5 MB 2.4 MB/s eta 0:00:10\n",
      "   --------------- ------------------------ 15.2/38.5 MB 2.4 MB/s eta 0:00:10\n",
      "   ---------------- ----------------------- 15.7/38.5 MB 2.4 MB/s eta 0:00:10\n",
      "   ----------------- ---------------------- 16.5/38.5 MB 2.4 MB/s eta 0:00:09\n",
      "   ----------------- ---------------------- 17.0/38.5 MB 2.4 MB/s eta 0:00:09\n",
      "   ----------------- ---------------------- 17.3/38.5 MB 2.4 MB/s eta 0:00:09\n",
      "   ------------------ --------------------- 17.8/38.5 MB 2.4 MB/s eta 0:00:09\n",
      "   ------------------- -------------------- 18.4/38.5 MB 2.4 MB/s eta 0:00:09\n",
      "   ------------------- -------------------- 18.9/38.5 MB 2.4 MB/s eta 0:00:09\n",
      "   -------------------- ------------------- 19.4/38.5 MB 2.4 MB/s eta 0:00:08\n",
      "   -------------------- ------------------- 19.9/38.5 MB 2.4 MB/s eta 0:00:08\n",
      "   --------------------- ------------------ 20.4/38.5 MB 2.4 MB/s eta 0:00:08\n",
      "   ---------------------- ----------------- 21.2/38.5 MB 2.5 MB/s eta 0:00:08\n",
      "   ---------------------- ----------------- 22.0/38.5 MB 2.5 MB/s eta 0:00:07\n",
      "   ----------------------- ---------------- 22.5/38.5 MB 2.5 MB/s eta 0:00:07\n",
      "   ------------------------ --------------- 23.3/38.5 MB 2.5 MB/s eta 0:00:06\n",
      "   ------------------------ --------------- 23.9/38.5 MB 2.5 MB/s eta 0:00:06\n",
      "   ------------------------- -------------- 24.4/38.5 MB 2.5 MB/s eta 0:00:06\n",
      "   -------------------------- ------------- 25.2/38.5 MB 2.6 MB/s eta 0:00:06\n",
      "   -------------------------- ------------- 26.0/38.5 MB 2.6 MB/s eta 0:00:05\n",
      "   --------------------------- ------------ 26.5/38.5 MB 2.6 MB/s eta 0:00:05\n",
      "   ---------------------------- ----------- 27.0/38.5 MB 2.6 MB/s eta 0:00:05\n",
      "   ---------------------------- ----------- 27.5/38.5 MB 2.6 MB/s eta 0:00:05\n",
      "   ----------------------------- ---------- 28.0/38.5 MB 2.6 MB/s eta 0:00:05\n",
      "   ----------------------------- ---------- 28.6/38.5 MB 2.6 MB/s eta 0:00:04\n",
      "   ------------------------------ --------- 29.1/38.5 MB 2.6 MB/s eta 0:00:04\n",
      "   ------------------------------- -------- 29.9/38.5 MB 2.6 MB/s eta 0:00:04\n",
      "   ------------------------------- -------- 30.4/38.5 MB 2.6 MB/s eta 0:00:04\n",
      "   -------------------------------- ------- 30.9/38.5 MB 2.6 MB/s eta 0:00:03\n",
      "   -------------------------------- ------- 31.5/38.5 MB 2.6 MB/s eta 0:00:03\n",
      "   --------------------------------- ------ 32.2/38.5 MB 2.6 MB/s eta 0:00:03\n",
      "   ---------------------------------- ----- 33.0/38.5 MB 2.6 MB/s eta 0:00:03\n",
      "   ----------------------------------- ---- 33.8/38.5 MB 2.6 MB/s eta 0:00:02\n",
      "   ----------------------------------- ---- 34.3/38.5 MB 2.6 MB/s eta 0:00:02\n",
      "   ------------------------------------ --- 34.9/38.5 MB 2.6 MB/s eta 0:00:02\n",
      "   ------------------------------------- -- 35.7/38.5 MB 2.7 MB/s eta 0:00:02\n",
      "   ------------------------------------- -- 36.4/38.5 MB 2.7 MB/s eta 0:00:01\n",
      "   -------------------------------------- - 37.0/38.5 MB 2.7 MB/s eta 0:00:01\n",
      "   ---------------------------------------  37.7/38.5 MB 2.7 MB/s eta 0:00:01\n",
      "   ---------------------------------------  38.3/38.5 MB 2.7 MB/s eta 0:00:01\n",
      "   ---------------------------------------- 38.5/38.5 MB 2.7 MB/s eta 0:00:00\n",
      "Downloading threadpoolctl-3.6.0-py3-none-any.whl (18 kB)\n",
      "Installing collected packages: threadpoolctl, scipy, joblib, scikit-learn\n",
      "\n",
      "   ---------- ----------------------------- 1/4 [scipy]\n",
      "   ---------- ----------------------------- 1/4 [scipy]\n",
      "   ---------- ----------------------------- 1/4 [scipy]\n",
      "   ---------- ----------------------------- 1/4 [scipy]\n",
      "   ---------- ----------------------------- 1/4 [scipy]\n",
      "   ---------- ----------------------------- 1/4 [scipy]\n",
      "   ---------- ----------------------------- 1/4 [scipy]\n",
      "   ---------- ----------------------------- 1/4 [scipy]\n",
      "   ---------- ----------------------------- 1/4 [scipy]\n",
      "   ---------- ----------------------------- 1/4 [scipy]\n",
      "   ---------- ----------------------------- 1/4 [scipy]\n",
      "   ---------- ----------------------------- 1/4 [scipy]\n",
      "   ---------- ----------------------------- 1/4 [scipy]\n",
      "   ---------- ----------------------------- 1/4 [scipy]\n",
      "   ---------- ----------------------------- 1/4 [scipy]\n",
      "   ---------- ----------------------------- 1/4 [scipy]\n",
      "   ---------- ----------------------------- 1/4 [scipy]\n",
      "   ---------- ----------------------------- 1/4 [scipy]\n",
      "   ---------- ----------------------------- 1/4 [scipy]\n",
      "   ---------- ----------------------------- 1/4 [scipy]\n",
      "   ---------- ----------------------------- 1/4 [scipy]\n",
      "   ---------- ----------------------------- 1/4 [scipy]\n",
      "   -------------------- ------------------- 2/4 [joblib]\n",
      "   ------------------------------ --------- 3/4 [scikit-learn]\n",
      "   ------------------------------ --------- 3/4 [scikit-learn]\n",
      "   ------------------------------ --------- 3/4 [scikit-learn]\n",
      "   ------------------------------ --------- 3/4 [scikit-learn]\n",
      "   ------------------------------ --------- 3/4 [scikit-learn]\n",
      "   ------------------------------ --------- 3/4 [scikit-learn]\n",
      "   ------------------------------ --------- 3/4 [scikit-learn]\n",
      "   ------------------------------ --------- 3/4 [scikit-learn]\n",
      "   ------------------------------ --------- 3/4 [scikit-learn]\n",
      "   ------------------------------ --------- 3/4 [scikit-learn]\n",
      "   ------------------------------ --------- 3/4 [scikit-learn]\n",
      "   ------------------------------ --------- 3/4 [scikit-learn]\n",
      "   ---------------------------------------- 4/4 [scikit-learn]\n",
      "\n",
      "Successfully installed joblib-1.5.1 scikit-learn-1.7.1 scipy-1.16.1 threadpoolctl-3.6.0\n",
      "Note: you may need to restart the kernel to use updated packages.\n"
     ]
    },
    {
     "name": "stderr",
     "output_type": "stream",
     "text": [
      "\n",
      "[notice] A new release of pip is available: 25.1.1 -> 25.2\n",
      "[notice] To update, run: python.exe -m pip install --upgrade pip\n"
     ]
    }
   ],
   "source": [
    "pip install scikit-learn"
   ]
  },
  {
   "cell_type": "code",
   "execution_count": 12,
   "id": "79238259-953a-42ef-99be-895bdf452c1f",
   "metadata": {},
   "outputs": [],
   "source": [
    "from sklearn.datasets import load_iris\n",
    "from sklearn.model_selection import train_test_split\n",
    "from sklearn.preprocessing import StandardScaler"
   ]
  },
  {
   "cell_type": "code",
   "execution_count": 13,
   "id": "0b233a2d-7b7a-4536-9260-44845d0aad8c",
   "metadata": {},
   "outputs": [],
   "source": [
    "X,y = load_iris(return_X_y=True)"
   ]
  },
  {
   "cell_type": "code",
   "execution_count": 15,
   "id": "0e5db1af-efa0-4fbf-bf9a-870025de1868",
   "metadata": {},
   "outputs": [
    {
     "data": {
      "text/plain": [
       "array([[5.1, 3.5, 1.4, 0.2],\n",
       "       [4.9, 3. , 1.4, 0.2],\n",
       "       [4.7, 3.2, 1.3, 0.2],\n",
       "       [4.6, 3.1, 1.5, 0.2],\n",
       "       [5. , 3.6, 1.4, 0.2]])"
      ]
     },
     "execution_count": 15,
     "metadata": {},
     "output_type": "execute_result"
    }
   ],
   "source": [
    "X[:5]"
   ]
  },
  {
   "cell_type": "code",
   "execution_count": 16,
   "id": "cb1e47a3-bf00-4d07-86aa-e032028c4e49",
   "metadata": {},
   "outputs": [
    {
     "data": {
      "text/plain": [
       "array([0, 0, 0, 0, 0])"
      ]
     },
     "execution_count": 16,
     "metadata": {},
     "output_type": "execute_result"
    }
   ],
   "source": [
    "y[:5]"
   ]
  },
  {
   "cell_type": "code",
   "execution_count": 24,
   "id": "1fea7a55-b478-41a1-afbb-f2d82a0c3614",
   "metadata": {},
   "outputs": [],
   "source": [
    "scaler = StandardScaler()\n",
    "X = scaler.fit_transform(X)\n",
    "y = tf.keras.utils.to_categorical(y,3)"
   ]
  },
  {
   "cell_type": "code",
   "execution_count": 25,
   "id": "9e1329a3-ff4a-4d0e-bf6a-6138de96eedf",
   "metadata": {},
   "outputs": [
    {
     "data": {
      "text/plain": [
       "array([[-0.90068117,  1.01900435, -1.34022653, -1.3154443 ],\n",
       "       [-1.14301691, -0.13197948, -1.34022653, -1.3154443 ],\n",
       "       [-1.38535265,  0.32841405, -1.39706395, -1.3154443 ],\n",
       "       [-1.50652052,  0.09821729, -1.2833891 , -1.3154443 ],\n",
       "       [-1.02184904,  1.24920112, -1.34022653, -1.3154443 ]])"
      ]
     },
     "execution_count": 25,
     "metadata": {},
     "output_type": "execute_result"
    }
   ],
   "source": [
    "X[:5]"
   ]
  },
  {
   "cell_type": "code",
   "execution_count": 26,
   "id": "06c9bf23-5792-4b24-a5a2-6b27da159c4a",
   "metadata": {},
   "outputs": [
    {
     "data": {
      "text/plain": [
       "array([[1., 0., 0.],\n",
       "       [1., 0., 0.],\n",
       "       [1., 0., 0.],\n",
       "       [1., 0., 0.],\n",
       "       [1., 0., 0.]])"
      ]
     },
     "execution_count": 26,
     "metadata": {},
     "output_type": "execute_result"
    }
   ],
   "source": [
    "y[:5]"
   ]
  },
  {
   "cell_type": "code",
   "execution_count": 29,
   "id": "c3362c87-f036-462e-a270-94ce18cc9a76",
   "metadata": {},
   "outputs": [],
   "source": [
    "X_train, X_test, y_train, y_test = train_test_split(X, y, test_size=0.25, random_state=42)"
   ]
  },
  {
   "cell_type": "code",
   "execution_count": 32,
   "id": "70f3c660-33a6-49e0-aeba-8121a7faded3",
   "metadata": {},
   "outputs": [
    {
     "name": "stdout",
     "output_type": "stream",
     "text": [
      "(150, 4)\n",
      "(112, 4)\n",
      "(38, 4)\n",
      "(112, 3)\n",
      "(38, 3)\n"
     ]
    }
   ],
   "source": [
    "print(X.shape)\n",
    "print(X_train.shape)\n",
    "print(X_test.shape)\n",
    "print(y_train.shape)\n",
    "print(y_test.shape)"
   ]
  },
  {
   "cell_type": "code",
   "execution_count": 51,
   "id": "cb1ed987-7cae-4475-b3f5-c9158bbcb8d6",
   "metadata": {},
   "outputs": [],
   "source": [
    "learning_rate = 0.001\n",
    "batch_size = 16\n",
    "hidden_layers_config = [64,32]\n",
    "dropout_rate = 0.3\n",
    "weight_init = \"he_normal\""
   ]
  },
  {
   "cell_type": "code",
   "execution_count": 52,
   "id": "06ff1f33-e7fc-4015-91f0-734258beb090",
   "metadata": {},
   "outputs": [
    {
     "data": {
      "text/plain": [
       "7.0"
      ]
     },
     "execution_count": 52,
     "metadata": {},
     "output_type": "execute_result"
    }
   ],
   "source": [
    "iteration = X_train / batch_size\n",
    "len(iteration)\n",
    "a = 112/16\n",
    "a"
   ]
  },
  {
   "cell_type": "code",
   "execution_count": 53,
   "id": "d1586507-b518-4c2c-8777-0fc66874e80d",
   "metadata": {},
   "outputs": [],
   "source": [
    "# ===== Build model function =====\n",
    "def build_model(hidden_layers, dropout_rate, optimizer_choice, learning_rate, weight_init):\n",
    "    model = Sequential()\n",
    "    \n",
    "    # First hidden layer\n",
    "    model.add(Dense(hidden_layers[0], activation='relu', \n",
    "                    kernel_initializer=weight_init, input_shape=(X_train.shape[1],)))\n",
    "    if dropout_rate > 0:\n",
    "        model.add(Dropout(dropout_rate))\n",
    "    \n",
    "    # Additional hidden layers\n",
    "    for units in hidden_layers[1:]:\n",
    "        model.add(Dense(units, activation='relu', kernel_initializer=weight_init))\n",
    "        if dropout_rate > 0:\n",
    "            model.add(Dropout(dropout_rate))\n",
    "    \n",
    "    # Output layer\n",
    "    model.add(Dense(3, activation='softmax', kernel_initializer=weight_init))\n",
    "    \n",
    "    # Select optimizer\n",
    "    if optimizer_choice == \"adam\":\n",
    "        optimizer = Adam(learning_rate=learning_rate)\n",
    "    elif optimizer_choice == \"sgd\":\n",
    "        optimizer = SGD(learning_rate=learning_rate, momentum=0.9)\n",
    "    elif optimizer_choice == \"rmsprop\":\n",
    "        optimizer = RMSprop(learning_rate=learning_rate)\n",
    "    else:\n",
    "        raise ValueError(\"Unknown optimizer\")\n",
    "    \n",
    "    model.compile(optimizer=optimizer, loss='categorical_crossentropy', metrics=['accuracy'])\n",
    "    return model\n",
    "\n"
   ]
  },
  {
   "cell_type": "code",
   "execution_count": 54,
   "id": "6638225a-bd08-4d46-b4b0-055987b7ad8e",
   "metadata": {},
   "outputs": [],
   "source": [
    "model = build_model(hidden_layers_config,dropout_rate,optimizer_choice,learning_rate,weight_init)"
   ]
  },
  {
   "cell_type": "code",
   "execution_count": 56,
   "id": "ab8f5a3c-bdb7-4167-a1e0-a74ab081a739",
   "metadata": {},
   "outputs": [
    {
     "name": "stdout",
     "output_type": "stream",
     "text": [
      "Epoch 1/30\n",
      "\u001b[1m4/4\u001b[0m \u001b[32m━━━━━━━━━━━━━━━━━━━━\u001b[0m\u001b[37m\u001b[0m \u001b[1m0s\u001b[0m 20ms/step - accuracy: 0.7500 - loss: 0.5019 - val_accuracy: 0.8684 - val_loss: 0.3270\n",
      "Epoch 2/30\n",
      "\u001b[1m4/4\u001b[0m \u001b[32m━━━━━━━━━━━━━━━━━━━━\u001b[0m\u001b[37m\u001b[0m \u001b[1m0s\u001b[0m 14ms/step - accuracy: 0.7679 - loss: 0.5021 - val_accuracy: 0.8684 - val_loss: 0.3249\n",
      "Epoch 3/30\n",
      "\u001b[1m4/4\u001b[0m \u001b[32m━━━━━━━━━━━━━━━━━━━━\u001b[0m\u001b[37m\u001b[0m \u001b[1m0s\u001b[0m 15ms/step - accuracy: 0.7500 - loss: 0.5214 - val_accuracy: 0.8684 - val_loss: 0.3230\n",
      "Epoch 4/30\n",
      "\u001b[1m4/4\u001b[0m \u001b[32m━━━━━━━━━━━━━━━━━━━━\u001b[0m\u001b[37m\u001b[0m \u001b[1m0s\u001b[0m 16ms/step - accuracy: 0.8036 - loss: 0.5150 - val_accuracy: 0.8684 - val_loss: 0.3216\n",
      "Epoch 5/30\n",
      "\u001b[1m4/4\u001b[0m \u001b[32m━━━━━━━━━━━━━━━━━━━━\u001b[0m\u001b[37m\u001b[0m \u001b[1m0s\u001b[0m 16ms/step - accuracy: 0.7946 - loss: 0.5196 - val_accuracy: 0.8684 - val_loss: 0.3205\n",
      "Epoch 6/30\n",
      "\u001b[1m4/4\u001b[0m \u001b[32m━━━━━━━━━━━━━━━━━━━━\u001b[0m\u001b[37m\u001b[0m \u001b[1m0s\u001b[0m 14ms/step - accuracy: 0.8214 - loss: 0.4787 - val_accuracy: 0.8684 - val_loss: 0.3184\n",
      "Epoch 7/30\n",
      "\u001b[1m4/4\u001b[0m \u001b[32m━━━━━━━━━━━━━━━━━━━━\u001b[0m\u001b[37m\u001b[0m \u001b[1m0s\u001b[0m 14ms/step - accuracy: 0.7143 - loss: 0.5107 - val_accuracy: 0.8684 - val_loss: 0.3169\n",
      "Epoch 8/30\n",
      "\u001b[1m4/4\u001b[0m \u001b[32m━━━━━━━━━━━━━━━━━━━━\u001b[0m\u001b[37m\u001b[0m \u001b[1m0s\u001b[0m 15ms/step - accuracy: 0.8036 - loss: 0.4615 - val_accuracy: 0.8684 - val_loss: 0.3151\n",
      "Epoch 9/30\n",
      "\u001b[1m4/4\u001b[0m \u001b[32m━━━━━━━━━━━━━━━━━━━━\u001b[0m\u001b[37m\u001b[0m \u001b[1m0s\u001b[0m 14ms/step - accuracy: 0.8125 - loss: 0.4946 - val_accuracy: 0.8684 - val_loss: 0.3138\n",
      "Epoch 10/30\n",
      "\u001b[1m4/4\u001b[0m \u001b[32m━━━━━━━━━━━━━━━━━━━━\u001b[0m\u001b[37m\u001b[0m \u001b[1m0s\u001b[0m 15ms/step - accuracy: 0.7411 - loss: 0.4938 - val_accuracy: 0.8684 - val_loss: 0.3124\n",
      "Epoch 11/30\n",
      "\u001b[1m4/4\u001b[0m \u001b[32m━━━━━━━━━━━━━━━━━━━━\u001b[0m\u001b[37m\u001b[0m \u001b[1m0s\u001b[0m 14ms/step - accuracy: 0.8125 - loss: 0.4572 - val_accuracy: 0.8684 - val_loss: 0.3114\n",
      "Epoch 12/30\n",
      "\u001b[1m4/4\u001b[0m \u001b[32m━━━━━━━━━━━━━━━━━━━━\u001b[0m\u001b[37m\u001b[0m \u001b[1m0s\u001b[0m 14ms/step - accuracy: 0.8125 - loss: 0.4375 - val_accuracy: 0.8684 - val_loss: 0.3098\n",
      "Epoch 13/30\n",
      "\u001b[1m4/4\u001b[0m \u001b[32m━━━━━━━━━━━━━━━━━━━━\u001b[0m\u001b[37m\u001b[0m \u001b[1m0s\u001b[0m 14ms/step - accuracy: 0.8125 - loss: 0.4649 - val_accuracy: 0.8684 - val_loss: 0.3078\n",
      "Epoch 14/30\n",
      "\u001b[1m4/4\u001b[0m \u001b[32m━━━━━━━━━━━━━━━━━━━━\u001b[0m\u001b[37m\u001b[0m \u001b[1m0s\u001b[0m 14ms/step - accuracy: 0.7946 - loss: 0.4526 - val_accuracy: 0.8684 - val_loss: 0.3063\n",
      "Epoch 15/30\n",
      "\u001b[1m4/4\u001b[0m \u001b[32m━━━━━━━━━━━━━━━━━━━━\u001b[0m\u001b[37m\u001b[0m \u001b[1m0s\u001b[0m 14ms/step - accuracy: 0.7411 - loss: 0.5097 - val_accuracy: 0.8684 - val_loss: 0.3049\n",
      "Epoch 16/30\n",
      "\u001b[1m4/4\u001b[0m \u001b[32m━━━━━━━━━━━━━━━━━━━━\u001b[0m\u001b[37m\u001b[0m \u001b[1m0s\u001b[0m 15ms/step - accuracy: 0.7143 - loss: 0.5380 - val_accuracy: 0.8684 - val_loss: 0.3034\n",
      "Epoch 17/30\n",
      "\u001b[1m4/4\u001b[0m \u001b[32m━━━━━━━━━━━━━━━━━━━━\u001b[0m\u001b[37m\u001b[0m \u001b[1m0s\u001b[0m 14ms/step - accuracy: 0.7946 - loss: 0.4490 - val_accuracy: 0.8684 - val_loss: 0.3013\n",
      "Epoch 18/30\n",
      "\u001b[1m4/4\u001b[0m \u001b[32m━━━━━━━━━━━━━━━━━━━━\u001b[0m\u001b[37m\u001b[0m \u001b[1m0s\u001b[0m 14ms/step - accuracy: 0.7768 - loss: 0.4317 - val_accuracy: 0.8684 - val_loss: 0.2993\n",
      "Epoch 19/30\n",
      "\u001b[1m4/4\u001b[0m \u001b[32m━━━━━━━━━━━━━━━━━━━━\u001b[0m\u001b[37m\u001b[0m \u001b[1m0s\u001b[0m 14ms/step - accuracy: 0.8125 - loss: 0.4821 - val_accuracy: 0.8684 - val_loss: 0.2975\n",
      "Epoch 20/30\n",
      "\u001b[1m4/4\u001b[0m \u001b[32m━━━━━━━━━━━━━━━━━━━━\u001b[0m\u001b[37m\u001b[0m \u001b[1m0s\u001b[0m 15ms/step - accuracy: 0.8482 - loss: 0.4152 - val_accuracy: 0.8684 - val_loss: 0.2960\n",
      "Epoch 21/30\n",
      "\u001b[1m4/4\u001b[0m \u001b[32m━━━━━━━━━━━━━━━━━━━━\u001b[0m\u001b[37m\u001b[0m \u001b[1m0s\u001b[0m 14ms/step - accuracy: 0.8214 - loss: 0.4641 - val_accuracy: 0.8684 - val_loss: 0.2944\n",
      "Epoch 22/30\n",
      "\u001b[1m4/4\u001b[0m \u001b[32m━━━━━━━━━━━━━━━━━━━━\u001b[0m\u001b[37m\u001b[0m \u001b[1m0s\u001b[0m 15ms/step - accuracy: 0.8214 - loss: 0.4325 - val_accuracy: 0.8684 - val_loss: 0.2934\n",
      "Epoch 23/30\n",
      "\u001b[1m4/4\u001b[0m \u001b[32m━━━━━━━━━━━━━━━━━━━━\u001b[0m\u001b[37m\u001b[0m \u001b[1m0s\u001b[0m 15ms/step - accuracy: 0.7946 - loss: 0.4657 - val_accuracy: 0.8684 - val_loss: 0.2922\n",
      "Epoch 24/30\n",
      "\u001b[1m4/4\u001b[0m \u001b[32m━━━━━━━━━━━━━━━━━━━━\u001b[0m\u001b[37m\u001b[0m \u001b[1m0s\u001b[0m 14ms/step - accuracy: 0.8482 - loss: 0.3812 - val_accuracy: 0.8684 - val_loss: 0.2905\n",
      "Epoch 25/30\n",
      "\u001b[1m4/4\u001b[0m \u001b[32m━━━━━━━━━━━━━━━━━━━━\u001b[0m\u001b[37m\u001b[0m \u001b[1m0s\u001b[0m 57ms/step - accuracy: 0.8125 - loss: 0.4016 - val_accuracy: 0.8684 - val_loss: 0.2890\n",
      "Epoch 26/30\n",
      "\u001b[1m4/4\u001b[0m \u001b[32m━━━━━━━━━━━━━━━━━━━━\u001b[0m\u001b[37m\u001b[0m \u001b[1m0s\u001b[0m 14ms/step - accuracy: 0.8036 - loss: 0.4207 - val_accuracy: 0.8684 - val_loss: 0.2873\n",
      "Epoch 27/30\n",
      "\u001b[1m4/4\u001b[0m \u001b[32m━━━━━━━━━━━━━━━━━━━━\u001b[0m\u001b[37m\u001b[0m \u001b[1m0s\u001b[0m 14ms/step - accuracy: 0.8125 - loss: 0.4242 - val_accuracy: 0.8684 - val_loss: 0.2858\n",
      "Epoch 28/30\n",
      "\u001b[1m4/4\u001b[0m \u001b[32m━━━━━━━━━━━━━━━━━━━━\u001b[0m\u001b[37m\u001b[0m \u001b[1m0s\u001b[0m 14ms/step - accuracy: 0.7857 - loss: 0.4210 - val_accuracy: 0.8684 - val_loss: 0.2847\n",
      "Epoch 29/30\n",
      "\u001b[1m4/4\u001b[0m \u001b[32m━━━━━━━━━━━━━━━━━━━━\u001b[0m\u001b[37m\u001b[0m \u001b[1m0s\u001b[0m 14ms/step - accuracy: 0.8661 - loss: 0.4099 - val_accuracy: 0.8684 - val_loss: 0.2837\n",
      "Epoch 30/30\n",
      "\u001b[1m4/4\u001b[0m \u001b[32m━━━━━━━━━━━━━━━━━━━━\u001b[0m\u001b[37m\u001b[0m \u001b[1m0s\u001b[0m 14ms/step - accuracy: 0.8482 - loss: 0.3686 - val_accuracy: 0.8684 - val_loss: 0.2829\n"
     ]
    }
   ],
   "source": [
    "history = model.fit(X_train,y_train,validation_data=(X_test,y_test),epochs=30,verbose=1)"
   ]
  },
  {
   "cell_type": "code",
   "execution_count": null,
   "id": "58c40822-86e7-44a5-8dd2-e40b3616a892",
   "metadata": {},
   "outputs": [],
   "source": []
  }
 ],
 "metadata": {
  "kernelspec": {
   "display_name": "Python 3 (ipykernel)",
   "language": "python",
   "name": "python3"
  },
  "language_info": {
   "codemirror_mode": {
    "name": "ipython",
    "version": 3
   },
   "file_extension": ".py",
   "mimetype": "text/x-python",
   "name": "python",
   "nbconvert_exporter": "python",
   "pygments_lexer": "ipython3",
   "version": "3.13.6"
  }
 },
 "nbformat": 4,
 "nbformat_minor": 5
}
